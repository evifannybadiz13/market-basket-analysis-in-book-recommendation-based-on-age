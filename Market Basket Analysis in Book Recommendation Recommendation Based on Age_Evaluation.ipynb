{
 "cells": [
  {
   "cell_type": "markdown",
   "metadata": {},
   "source": [
    "# The dataset"
   ]
  },
  {
   "cell_type": "markdown",
   "metadata": {},
   "source": [
    "Dataset yang digunakan merupakan data book-crossing yang terdiri dari tiga file dalam ekstensi CSV yaitu:\n",
    "1. BX-Users.csv\n",
    "2. BX-Books.csv\n",
    "3. BX-Book-Ratings.csv"
   ]
  },
  {
   "cell_type": "code",
   "execution_count": 2,
   "metadata": {},
   "outputs": [],
   "source": [
    "#Loading neccesary packages\n",
    "import numpy as np          # linear algebra\n",
    "import pandas as pd         # data processing\n",
    "import matplotlib.pyplot as plt\n",
    "import seaborn as sns\n",
    "import sklearn\n",
    "import warnings; warnings.simplefilter('ignore')\n",
    "\n",
    "\n",
    "#Load dataset from bookcrossing\n",
    "users = pd.read_csv(\"D:/MATA KULIAH/SEMESTER 7/PD_DAMI/Proyek/Data set/BX/BX-Users.csv\", names=['User-ID', 'Location', 'Age'], encoding='latin-1', skiprows=1)\n",
    "books = pd.read_csv(\"D:/MATA KULIAH/SEMESTER 7/PD_DAMI/Proyek/Data set/BX/BX-Books.csv\", names=['ISBN', 'Book-Title' ,'Book-Author','Year-Of-Publication', 'Publisher', 'Image-Url-S', 'Image-Url-M', 'Image-Url-L'], encoding='latin-1', skiprows=1)\n",
    "ratings = pd.read_csv(\"D:/MATA KULIAH/SEMESTER 7/PD_DAMI/Proyek/Data set/BX/BX-Book-Ratings.csv\", names=['User-ID', 'ISBN', 'Book-Rating'], encoding='latin-1', skiprows=1)"
   ]
  },
  {
   "cell_type": "code",
   "execution_count": 3,
   "metadata": {},
   "outputs": [
    {
     "data": {
      "text/html": [
       "<div>\n",
       "<style scoped>\n",
       "    .dataframe tbody tr th:only-of-type {\n",
       "        vertical-align: middle;\n",
       "    }\n",
       "\n",
       "    .dataframe tbody tr th {\n",
       "        vertical-align: top;\n",
       "    }\n",
       "\n",
       "    .dataframe thead th {\n",
       "        text-align: right;\n",
       "    }\n",
       "</style>\n",
       "<table border=\"1\" class=\"dataframe\">\n",
       "  <thead>\n",
       "    <tr style=\"text-align: right;\">\n",
       "      <th></th>\n",
       "      <th>User-ID</th>\n",
       "      <th>Location</th>\n",
       "      <th>Age</th>\n",
       "    </tr>\n",
       "  </thead>\n",
       "  <tbody>\n",
       "    <tr>\n",
       "      <th>0</th>\n",
       "      <td>1</td>\n",
       "      <td>nyc, new york, usa</td>\n",
       "      <td>NaN</td>\n",
       "    </tr>\n",
       "    <tr>\n",
       "      <th>1</th>\n",
       "      <td>2</td>\n",
       "      <td>stockton, california, usa</td>\n",
       "      <td>18.0</td>\n",
       "    </tr>\n",
       "    <tr>\n",
       "      <th>2</th>\n",
       "      <td>3</td>\n",
       "      <td>moscow, yukon territory, russia</td>\n",
       "      <td>NaN</td>\n",
       "    </tr>\n",
       "    <tr>\n",
       "      <th>3</th>\n",
       "      <td>4</td>\n",
       "      <td>porto, v.n.gaia, portugal</td>\n",
       "      <td>17.0</td>\n",
       "    </tr>\n",
       "    <tr>\n",
       "      <th>4</th>\n",
       "      <td>5</td>\n",
       "      <td>farnborough, hants, united kingdom</td>\n",
       "      <td>NaN</td>\n",
       "    </tr>\n",
       "  </tbody>\n",
       "</table>\n",
       "</div>"
      ],
      "text/plain": [
       "   User-ID                            Location   Age\n",
       "0        1                  nyc, new york, usa   NaN\n",
       "1        2           stockton, california, usa  18.0\n",
       "2        3     moscow, yukon territory, russia   NaN\n",
       "3        4           porto, v.n.gaia, portugal  17.0\n",
       "4        5  farnborough, hants, united kingdom   NaN"
      ]
     },
     "execution_count": 3,
     "metadata": {},
     "output_type": "execute_result"
    }
   ],
   "source": [
    "#Print users header\n",
    "users.head()"
   ]
  },
  {
   "cell_type": "code",
   "execution_count": 4,
   "metadata": {},
   "outputs": [
    {
     "data": {
      "text/html": [
       "<div>\n",
       "<style scoped>\n",
       "    .dataframe tbody tr th:only-of-type {\n",
       "        vertical-align: middle;\n",
       "    }\n",
       "\n",
       "    .dataframe tbody tr th {\n",
       "        vertical-align: top;\n",
       "    }\n",
       "\n",
       "    .dataframe thead th {\n",
       "        text-align: right;\n",
       "    }\n",
       "</style>\n",
       "<table border=\"1\" class=\"dataframe\">\n",
       "  <thead>\n",
       "    <tr style=\"text-align: right;\">\n",
       "      <th></th>\n",
       "      <th>ISBN</th>\n",
       "      <th>Book-Title</th>\n",
       "      <th>Book-Author</th>\n",
       "      <th>Year-Of-Publication</th>\n",
       "      <th>Publisher</th>\n",
       "      <th>Image-Url-S</th>\n",
       "      <th>Image-Url-M</th>\n",
       "      <th>Image-Url-L</th>\n",
       "    </tr>\n",
       "  </thead>\n",
       "  <tbody>\n",
       "    <tr>\n",
       "      <th>0</th>\n",
       "      <td>0195153448</td>\n",
       "      <td>Classical Mythology</td>\n",
       "      <td>Mark P. O. Morford</td>\n",
       "      <td>2002</td>\n",
       "      <td>Oxford University Press</td>\n",
       "      <td>http://images.amazon.com/images/P/0195153448.0...</td>\n",
       "      <td>http://images.amazon.com/images/P/0195153448.0...</td>\n",
       "      <td>http://images.amazon.com/images/P/0195153448.0...</td>\n",
       "    </tr>\n",
       "    <tr>\n",
       "      <th>1</th>\n",
       "      <td>0002005018</td>\n",
       "      <td>Clara Callan</td>\n",
       "      <td>Richard Bruce Wright</td>\n",
       "      <td>2001</td>\n",
       "      <td>HarperFlamingo Canada</td>\n",
       "      <td>http://images.amazon.com/images/P/0002005018.0...</td>\n",
       "      <td>http://images.amazon.com/images/P/0002005018.0...</td>\n",
       "      <td>http://images.amazon.com/images/P/0002005018.0...</td>\n",
       "    </tr>\n",
       "    <tr>\n",
       "      <th>2</th>\n",
       "      <td>0060973129</td>\n",
       "      <td>Decision in Normandy</td>\n",
       "      <td>Carlo D'Este</td>\n",
       "      <td>1991</td>\n",
       "      <td>HarperPerennial</td>\n",
       "      <td>http://images.amazon.com/images/P/0060973129.0...</td>\n",
       "      <td>http://images.amazon.com/images/P/0060973129.0...</td>\n",
       "      <td>http://images.amazon.com/images/P/0060973129.0...</td>\n",
       "    </tr>\n",
       "    <tr>\n",
       "      <th>3</th>\n",
       "      <td>0374157065</td>\n",
       "      <td>Flu: The Story of the Great Influenza Pandemic...</td>\n",
       "      <td>Gina Bari Kolata</td>\n",
       "      <td>1999</td>\n",
       "      <td>Farrar Straus Giroux</td>\n",
       "      <td>http://images.amazon.com/images/P/0374157065.0...</td>\n",
       "      <td>http://images.amazon.com/images/P/0374157065.0...</td>\n",
       "      <td>http://images.amazon.com/images/P/0374157065.0...</td>\n",
       "    </tr>\n",
       "    <tr>\n",
       "      <th>4</th>\n",
       "      <td>0393045218</td>\n",
       "      <td>The Mummies of Urumchi</td>\n",
       "      <td>E. J. W. Barber</td>\n",
       "      <td>1999</td>\n",
       "      <td>W. W. Norton &amp;amp; Company</td>\n",
       "      <td>http://images.amazon.com/images/P/0393045218.0...</td>\n",
       "      <td>http://images.amazon.com/images/P/0393045218.0...</td>\n",
       "      <td>http://images.amazon.com/images/P/0393045218.0...</td>\n",
       "    </tr>\n",
       "  </tbody>\n",
       "</table>\n",
       "</div>"
      ],
      "text/plain": [
       "         ISBN                                         Book-Title  \\\n",
       "0  0195153448                                Classical Mythology   \n",
       "1  0002005018                                       Clara Callan   \n",
       "2  0060973129                               Decision in Normandy   \n",
       "3  0374157065  Flu: The Story of the Great Influenza Pandemic...   \n",
       "4  0393045218                             The Mummies of Urumchi   \n",
       "\n",
       "            Book-Author  Year-Of-Publication                   Publisher  \\\n",
       "0    Mark P. O. Morford                 2002     Oxford University Press   \n",
       "1  Richard Bruce Wright                 2001       HarperFlamingo Canada   \n",
       "2          Carlo D'Este                 1991             HarperPerennial   \n",
       "3      Gina Bari Kolata                 1999        Farrar Straus Giroux   \n",
       "4       E. J. W. Barber                 1999  W. W. Norton &amp; Company   \n",
       "\n",
       "                                         Image-Url-S  \\\n",
       "0  http://images.amazon.com/images/P/0195153448.0...   \n",
       "1  http://images.amazon.com/images/P/0002005018.0...   \n",
       "2  http://images.amazon.com/images/P/0060973129.0...   \n",
       "3  http://images.amazon.com/images/P/0374157065.0...   \n",
       "4  http://images.amazon.com/images/P/0393045218.0...   \n",
       "\n",
       "                                         Image-Url-M  \\\n",
       "0  http://images.amazon.com/images/P/0195153448.0...   \n",
       "1  http://images.amazon.com/images/P/0002005018.0...   \n",
       "2  http://images.amazon.com/images/P/0060973129.0...   \n",
       "3  http://images.amazon.com/images/P/0374157065.0...   \n",
       "4  http://images.amazon.com/images/P/0393045218.0...   \n",
       "\n",
       "                                         Image-Url-L  \n",
       "0  http://images.amazon.com/images/P/0195153448.0...  \n",
       "1  http://images.amazon.com/images/P/0002005018.0...  \n",
       "2  http://images.amazon.com/images/P/0060973129.0...  \n",
       "3  http://images.amazon.com/images/P/0374157065.0...  \n",
       "4  http://images.amazon.com/images/P/0393045218.0...  "
      ]
     },
     "execution_count": 4,
     "metadata": {},
     "output_type": "execute_result"
    }
   ],
   "source": [
    "#Print books header\n",
    "books.head()"
   ]
  },
  {
   "cell_type": "code",
   "execution_count": 5,
   "metadata": {},
   "outputs": [
    {
     "data": {
      "text/html": [
       "<div>\n",
       "<style scoped>\n",
       "    .dataframe tbody tr th:only-of-type {\n",
       "        vertical-align: middle;\n",
       "    }\n",
       "\n",
       "    .dataframe tbody tr th {\n",
       "        vertical-align: top;\n",
       "    }\n",
       "\n",
       "    .dataframe thead th {\n",
       "        text-align: right;\n",
       "    }\n",
       "</style>\n",
       "<table border=\"1\" class=\"dataframe\">\n",
       "  <thead>\n",
       "    <tr style=\"text-align: right;\">\n",
       "      <th></th>\n",
       "      <th>User-ID</th>\n",
       "      <th>ISBN</th>\n",
       "      <th>Book-Rating</th>\n",
       "    </tr>\n",
       "  </thead>\n",
       "  <tbody>\n",
       "    <tr>\n",
       "      <th>0</th>\n",
       "      <td>276725</td>\n",
       "      <td>034545104X</td>\n",
       "      <td>0</td>\n",
       "    </tr>\n",
       "    <tr>\n",
       "      <th>1</th>\n",
       "      <td>276726</td>\n",
       "      <td>155061224</td>\n",
       "      <td>5</td>\n",
       "    </tr>\n",
       "    <tr>\n",
       "      <th>2</th>\n",
       "      <td>276727</td>\n",
       "      <td>446520802</td>\n",
       "      <td>0</td>\n",
       "    </tr>\n",
       "    <tr>\n",
       "      <th>3</th>\n",
       "      <td>276729</td>\n",
       "      <td>052165615X</td>\n",
       "      <td>3</td>\n",
       "    </tr>\n",
       "    <tr>\n",
       "      <th>4</th>\n",
       "      <td>276729</td>\n",
       "      <td>521795028</td>\n",
       "      <td>6</td>\n",
       "    </tr>\n",
       "  </tbody>\n",
       "</table>\n",
       "</div>"
      ],
      "text/plain": [
       "   User-ID        ISBN  Book-Rating\n",
       "0   276725  034545104X            0\n",
       "1   276726   155061224            5\n",
       "2   276727   446520802            0\n",
       "3   276729  052165615X            3\n",
       "4   276729   521795028            6"
      ]
     },
     "execution_count": 5,
     "metadata": {},
     "output_type": "execute_result"
    }
   ],
   "source": [
    "#Print ratings header\n",
    "ratings.head()"
   ]
  },
  {
   "cell_type": "code",
   "execution_count": 6,
   "metadata": {},
   "outputs": [
    {
     "name": "stdout",
     "output_type": "stream",
     "text": [
      "<class 'pandas.core.frame.DataFrame'>\n",
      "RangeIndex: 271379 entries, 0 to 271378\n",
      "Data columns (total 8 columns):\n",
      " #   Column               Non-Null Count   Dtype \n",
      "---  ------               --------------   ----- \n",
      " 0   ISBN                 271379 non-null  object\n",
      " 1   Book-Title           271379 non-null  object\n",
      " 2   Book-Author          271378 non-null  object\n",
      " 3   Year-Of-Publication  271379 non-null  int64 \n",
      " 4   Publisher            271377 non-null  object\n",
      " 5   Image-Url-S          271379 non-null  object\n",
      " 6   Image-Url-M          271379 non-null  object\n",
      " 7   Image-Url-L          271379 non-null  object\n",
      "dtypes: int64(1), object(7)\n",
      "memory usage: 16.6+ MB\n"
     ]
    }
   ],
   "source": [
    "#Print books info\n",
    "books.info()"
   ]
  },
  {
   "cell_type": "code",
   "execution_count": 7,
   "metadata": {},
   "outputs": [
    {
     "name": "stdout",
     "output_type": "stream",
     "text": [
      "<class 'pandas.core.frame.DataFrame'>\n",
      "RangeIndex: 278858 entries, 0 to 278857\n",
      "Data columns (total 3 columns):\n",
      " #   Column    Non-Null Count   Dtype  \n",
      "---  ------    --------------   -----  \n",
      " 0   User-ID   278858 non-null  int64  \n",
      " 1   Location  278858 non-null  object \n",
      " 2   Age       168096 non-null  float64\n",
      "dtypes: float64(1), int64(1), object(1)\n",
      "memory usage: 6.4+ MB\n"
     ]
    }
   ],
   "source": [
    "#Print users info\n",
    "users.info()"
   ]
  },
  {
   "cell_type": "code",
   "execution_count": 8,
   "metadata": {},
   "outputs": [
    {
     "name": "stdout",
     "output_type": "stream",
     "text": [
      "<class 'pandas.core.frame.DataFrame'>\n",
      "RangeIndex: 1048575 entries, 0 to 1048574\n",
      "Data columns (total 3 columns):\n",
      " #   Column       Non-Null Count    Dtype \n",
      "---  ------       --------------    ----- \n",
      " 0   User-ID      1048575 non-null  int64 \n",
      " 1   ISBN         1048575 non-null  object\n",
      " 2   Book-Rating  1048575 non-null  int64 \n",
      "dtypes: int64(2), object(1)\n",
      "memory usage: 24.0+ MB\n"
     ]
    }
   ],
   "source": [
    "#Print ratings info\n",
    "ratings.info()"
   ]
  },
  {
   "cell_type": "markdown",
   "metadata": {},
   "source": [
    "## Data Preprocessing"
   ]
  },
  {
   "cell_type": "code",
   "execution_count": 9,
   "metadata": {},
   "outputs": [],
   "source": [
    "#delete features that are not needed in books data\n",
    "books.drop(['Image-Url-S','Image-Url-M','Image-Url-L'],axis=1,inplace=True)"
   ]
  },
  {
   "cell_type": "code",
   "execution_count": 10,
   "metadata": {},
   "outputs": [],
   "source": [
    "#update all capital alphabet in dataset to lowercase and replace - with _ \n",
    "books.columns= books.columns.str.lower().str.replace('-', '_')\n",
    "users.columns= users.columns.str.lower().str.replace('-', '_')\n",
    "ratings.columns= ratings.columns.str.lower().str.replace('-', '_')"
   ]
  },
  {
   "cell_type": "code",
   "execution_count": 11,
   "metadata": {},
   "outputs": [
    {
     "name": "stdout",
     "output_type": "stream",
     "text": [
      "isbn                   0\n",
      "book_title             0\n",
      "book_author            1\n",
      "year_of_publication    0\n",
      "publisher              2\n",
      "dtype: int64\n"
     ]
    }
   ],
   "source": [
    "#check null value in books data\n",
    "print(books.isnull().sum())"
   ]
  },
  {
   "cell_type": "markdown",
   "metadata": {},
   "source": [
    "## Checking missing value in dataset"
   ]
  },
  {
   "cell_type": "code",
   "execution_count": 12,
   "metadata": {},
   "outputs": [
    {
     "data": {
      "text/html": [
       "<div>\n",
       "<style scoped>\n",
       "    .dataframe tbody tr th:only-of-type {\n",
       "        vertical-align: middle;\n",
       "    }\n",
       "\n",
       "    .dataframe tbody tr th {\n",
       "        vertical-align: top;\n",
       "    }\n",
       "\n",
       "    .dataframe thead th {\n",
       "        text-align: right;\n",
       "    }\n",
       "</style>\n",
       "<table border=\"1\" class=\"dataframe\">\n",
       "  <thead>\n",
       "    <tr style=\"text-align: right;\">\n",
       "      <th></th>\n",
       "      <th>isbn</th>\n",
       "      <th>book_title</th>\n",
       "      <th>book_author</th>\n",
       "      <th>year_of_publication</th>\n",
       "      <th>publisher</th>\n",
       "    </tr>\n",
       "  </thead>\n",
       "  <tbody>\n",
       "    <tr>\n",
       "      <th>187700</th>\n",
       "      <td>9627982032</td>\n",
       "      <td>The Credit Suisse Guide to Managing Your Perso...</td>\n",
       "      <td>NaN</td>\n",
       "      <td>1995</td>\n",
       "      <td>Edinburgh Financial Publishing</td>\n",
       "    </tr>\n",
       "  </tbody>\n",
       "</table>\n",
       "</div>"
      ],
      "text/plain": [
       "              isbn                                         book_title  \\\n",
       "187700  9627982032  The Credit Suisse Guide to Managing Your Perso...   \n",
       "\n",
       "       book_author  year_of_publication                       publisher  \n",
       "187700         NaN                 1995  Edinburgh Financial Publishing  "
      ]
     },
     "execution_count": 12,
     "metadata": {},
     "output_type": "execute_result"
    }
   ],
   "source": [
    "#check null value of feature book_author in books data\n",
    "books.loc[(books['book_author'].isnull()),:]"
   ]
  },
  {
   "cell_type": "code",
   "execution_count": 13,
   "metadata": {},
   "outputs": [],
   "source": [
    "jumlah = users.isnull().sum().sort_values(ascending=False)\n",
    "persentase = (users.isnull().sum()/users.isnull().count()).sort_values(ascending=False)\n",
    "#check missing value in users\n",
    "missing_data = pd.concat([jumlah, persentase], axis=1, keys=['Jumlah', 'Pesentase Missing Data'])\n",
    "missing_data['Pesentase Missing Data'] = missing_data['Pesentase Missing Data'].apply(lambda x: x * 100)"
   ]
  },
  {
   "cell_type": "code",
   "execution_count": 14,
   "metadata": {},
   "outputs": [
    {
     "data": {
      "text/html": [
       "<div>\n",
       "<style scoped>\n",
       "    .dataframe tbody tr th:only-of-type {\n",
       "        vertical-align: middle;\n",
       "    }\n",
       "\n",
       "    .dataframe tbody tr th {\n",
       "        vertical-align: top;\n",
       "    }\n",
       "\n",
       "    .dataframe thead th {\n",
       "        text-align: right;\n",
       "    }\n",
       "</style>\n",
       "<table border=\"1\" class=\"dataframe\">\n",
       "  <thead>\n",
       "    <tr style=\"text-align: right;\">\n",
       "      <th></th>\n",
       "      <th>Jumlah</th>\n",
       "      <th>Pesentase Missing Data</th>\n",
       "    </tr>\n",
       "  </thead>\n",
       "  <tbody>\n",
       "    <tr>\n",
       "      <th>age</th>\n",
       "      <td>110762</td>\n",
       "      <td>39.719857</td>\n",
       "    </tr>\n",
       "  </tbody>\n",
       "</table>\n",
       "</div>"
      ],
      "text/plain": [
       "     Jumlah  Pesentase Missing Data\n",
       "age  110762               39.719857"
      ]
     },
     "execution_count": 14,
     "metadata": {},
     "output_type": "execute_result"
    }
   ],
   "source": [
    "#check missing value in users based on Presentase missing data\n",
    "missing_data.loc[missing_data['Pesentase Missing Data'] > 10]"
   ]
  },
  {
   "cell_type": "code",
   "execution_count": 15,
   "metadata": {},
   "outputs": [
    {
     "name": "stdout",
     "output_type": "stream",
     "text": [
      "Data yang hilang atau missing data\n"
     ]
    },
    {
     "data": {
      "text/plain": [
       "user_id      0.0000\n",
       "location     0.0000\n",
       "age         39.7199\n",
       "dtype: float64"
      ]
     },
     "execution_count": 15,
     "metadata": {},
     "output_type": "execute_result"
    }
   ],
   "source": [
    "#print sum of missing value in users data\n",
    "print('Data yang hilang atau missing data')\n",
    "round(users.isnull().sum() / len(users) * 100, 4)"
   ]
  },
  {
   "cell_type": "markdown",
   "metadata": {},
   "source": [
    "# Replace NaN value in dataset"
   ]
  },
  {
   "cell_type": "code",
   "execution_count": 16,
   "metadata": {},
   "outputs": [],
   "source": [
    "#fill the missing value\n",
    "books.loc[(books['publisher'].isnull()),'publisher'] = 'no mention'"
   ]
  },
  {
   "cell_type": "code",
   "execution_count": 17,
   "metadata": {},
   "outputs": [
    {
     "name": "stdout",
     "output_type": "stream",
     "text": [
      "0\n"
     ]
    }
   ],
   "source": [
    "#check null value of feature publisher in books data \n",
    "print(books['publisher'].isnull().sum())"
   ]
  },
  {
   "cell_type": "code",
   "execution_count": 18,
   "metadata": {},
   "outputs": [],
   "source": [
    "#declare age = age value in users data\n",
    "age = users['age']\n",
    "#declare mean_age = mean of age in users data\n",
    "mean_age = age.mean()"
   ]
  },
  {
   "cell_type": "code",
   "execution_count": 19,
   "metadata": {},
   "outputs": [
    {
     "data": {
      "text/plain": [
       "34.75143370454978"
      ]
     },
     "execution_count": 19,
     "metadata": {},
     "output_type": "execute_result"
    }
   ],
   "source": [
    "#print mean of age in users data\n",
    "mean_age"
   ]
  },
  {
   "cell_type": "code",
   "execution_count": 20,
   "metadata": {},
   "outputs": [
    {
     "data": {
      "text/plain": [
       "35"
      ]
     },
     "execution_count": 20,
     "metadata": {},
     "output_type": "execute_result"
    }
   ],
   "source": [
    "#get round value mean of age in users data\n",
    "round(mean_age)"
   ]
  },
  {
   "cell_type": "code",
   "execution_count": 21,
   "metadata": {},
   "outputs": [],
   "source": [
    "#redeclare mean_age = round value mean of age in users data\n",
    "mean_age = round(mean_age)"
   ]
  },
  {
   "cell_type": "code",
   "execution_count": 22,
   "metadata": {},
   "outputs": [],
   "source": [
    "#fill missing value of age in users data with mean_age\n",
    "age.fillna(value = mean_age, inplace = True)"
   ]
  },
  {
   "cell_type": "code",
   "execution_count": 23,
   "metadata": {},
   "outputs": [],
   "source": [
    "#recheck missing value in users\n",
    "jumlah = users.isnull().sum().sort_values(ascending=False)\n",
    "persentase = (users.isnull().sum()/users.isnull().count()).sort_values(ascending=False)\n",
    "missing_data = pd.concat([jumlah, persentase], axis=1, keys=['Jumlah', 'Pesentase Missing Data'])\n",
    "missing_data['Pesentase Missing Data'] = missing_data['Pesentase Missing Data'].apply(lambda x: x * 100)"
   ]
  },
  {
   "cell_type": "code",
   "execution_count": 24,
   "metadata": {},
   "outputs": [
    {
     "data": {
      "text/html": [
       "<div>\n",
       "<style scoped>\n",
       "    .dataframe tbody tr th:only-of-type {\n",
       "        vertical-align: middle;\n",
       "    }\n",
       "\n",
       "    .dataframe tbody tr th {\n",
       "        vertical-align: top;\n",
       "    }\n",
       "\n",
       "    .dataframe thead th {\n",
       "        text-align: right;\n",
       "    }\n",
       "</style>\n",
       "<table border=\"1\" class=\"dataframe\">\n",
       "  <thead>\n",
       "    <tr style=\"text-align: right;\">\n",
       "      <th></th>\n",
       "      <th>Jumlah</th>\n",
       "      <th>Pesentase Missing Data</th>\n",
       "    </tr>\n",
       "  </thead>\n",
       "  <tbody>\n",
       "  </tbody>\n",
       "</table>\n",
       "</div>"
      ],
      "text/plain": [
       "Empty DataFrame\n",
       "Columns: [Jumlah, Pesentase Missing Data]\n",
       "Index: []"
      ]
     },
     "execution_count": 24,
     "metadata": {},
     "output_type": "execute_result"
    }
   ],
   "source": [
    "#recheck missing value in users based on Presentase missing data\n",
    "missing_data.loc[missing_data['Pesentase Missing Data'] > 10]"
   ]
  },
  {
   "cell_type": "code",
   "execution_count": 25,
   "metadata": {},
   "outputs": [
    {
     "name": "stdout",
     "output_type": "stream",
     "text": [
      "Data yang hilang atau missing data\n"
     ]
    },
    {
     "data": {
      "text/plain": [
       "user_id     0.0\n",
       "location    0.0\n",
       "age         0.0\n",
       "dtype: float64"
      ]
     },
     "execution_count": 25,
     "metadata": {},
     "output_type": "execute_result"
    }
   ],
   "source": [
    "#reprint sum of missing value in users data\n",
    "print('Data yang hilang atau missing data')\n",
    "round(users.isnull().sum() / len(users) * 100, 4)"
   ]
  },
  {
   "cell_type": "code",
   "execution_count": 26,
   "metadata": {},
   "outputs": [
    {
     "name": "stdout",
     "output_type": "stream",
     "text": [
      "Rata-rata rating buku:  3\n"
     ]
    }
   ],
   "source": [
    "#check mean of book_rating in books data\n",
    "print('Rata-rata rating buku: ', round(ratings['book_rating'].mean()))"
   ]
  },
  {
   "cell_type": "code",
   "execution_count": 27,
   "metadata": {},
   "outputs": [
    {
     "name": "stdout",
     "output_type": "stream",
     "text": [
      "Rata-rata rating buku:  2.87991\n"
     ]
    }
   ],
   "source": [
    "#check mean of book_rating in books data\n",
    "print('Rata-rata rating buku: ', round(ratings['book_rating'].mean(), 5))"
   ]
  },
  {
   "cell_type": "markdown",
   "metadata": {},
   "source": [
    "# Prepare Dataset"
   ]
  },
  {
   "cell_type": "code",
   "execution_count": 28,
   "metadata": {},
   "outputs": [
    {
     "data": {
      "image/png": "[encoded data removed]",
      "text/plain": [
       "<Figure size 432x288 with 1 Axes>"
      ]
     },
     "metadata": {
      "needs_background": "light"
     },
     "output_type": "display_data"
    }
   ],
   "source": [
    "users.age.plot.hist(bins=30)\n",
    "plt.title(\"Distribusi data umur pada data users\")\n",
    "plt.ylabel('jumlah users')\n",
    "plt.xlabel('Umur');"
   ]
  },
  {
   "cell_type": "code",
   "execution_count": 29,
   "metadata": {},
   "outputs": [
    {
     "data": {
      "text/plain": [
       "(278858, 3)"
      ]
     },
     "execution_count": 29,
     "metadata": {},
     "output_type": "execute_result"
    }
   ],
   "source": [
    "#check how many rows and attributes of users data\n",
    "users.shape"
   ]
  },
  {
   "cell_type": "code",
   "execution_count": 30,
   "metadata": {},
   "outputs": [
    {
     "data": {
      "text/plain": [
       "array([     1,      2,      3, ..., 278856, 278857, 278858], dtype=int64)"
      ]
     },
     "execution_count": 30,
     "metadata": {},
     "output_type": "execute_result"
    }
   ],
   "source": [
    "#check unique value of userid in users dataset\n",
    "users['user_id'].unique()"
   ]
  },
  {
   "cell_type": "code",
   "execution_count": 31,
   "metadata": {},
   "outputs": [
    {
     "data": {
      "text/plain": [
       "array([ 35.,  18.,  17.,  61.,  26.,  14.,  25.,  19.,  46.,  55.,  32.,\n",
       "        24.,  20.,  34.,  23.,  51.,  31.,  21.,  44.,  30.,  57.,  43.,\n",
       "        37.,  41.,  54.,  42.,  50.,  39.,  53.,  47.,  36.,  28.,  13.,\n",
       "        58.,  49.,  38.,  45.,  62.,  63.,  27.,  33.,  29.,  66.,  40.,\n",
       "        15.,  60.,   0.,  79.,  22.,  16.,  65.,  59.,  48.,  72.,  56.,\n",
       "        67.,   1.,  80.,  52.,  69.,  71.,  73.,  78.,   9.,  64., 103.,\n",
       "       104.,  12.,  74.,  75., 231.,   3.,  76.,  83.,  68., 119.,  11.,\n",
       "        77.,   2.,  70.,  93.,   8.,   7.,   4.,  81., 114., 230., 239.,\n",
       "        10.,   5., 148., 151.,   6., 101., 201.,  96.,  84.,  82.,  90.,\n",
       "       123., 244., 133.,  91., 128.,  94.,  85., 141., 110.,  97., 219.,\n",
       "        86., 124.,  92., 175., 172., 209., 212., 237.,  87., 162., 100.,\n",
       "       156., 136.,  95.,  89., 106.,  99., 108., 210.,  88., 199., 147.,\n",
       "       168., 132., 159., 186., 152., 102., 116., 200., 115., 226., 137.,\n",
       "       207., 229., 138., 109., 105., 228., 183., 204.,  98., 223., 113.,\n",
       "       208., 107., 157., 111., 146., 118., 220., 143., 140., 189., 127.])"
      ]
     },
     "execution_count": 31,
     "metadata": {},
     "output_type": "execute_result"
    }
   ],
   "source": [
    "#check unique value of age in users dataset\n",
    "users['age'].unique()"
   ]
  },
  {
   "cell_type": "code",
   "execution_count": 32,
   "metadata": {},
   "outputs": [
    {
     "data": {
      "text/html": [
       "<div>\n",
       "<style scoped>\n",
       "    .dataframe tbody tr th:only-of-type {\n",
       "        vertical-align: middle;\n",
       "    }\n",
       "\n",
       "    .dataframe tbody tr th {\n",
       "        vertical-align: top;\n",
       "    }\n",
       "\n",
       "    .dataframe thead th {\n",
       "        text-align: right;\n",
       "    }\n",
       "</style>\n",
       "<table border=\"1\" class=\"dataframe\">\n",
       "  <thead>\n",
       "    <tr style=\"text-align: right;\">\n",
       "      <th></th>\n",
       "      <th>age</th>\n",
       "      <th>age_group</th>\n",
       "    </tr>\n",
       "  </thead>\n",
       "  <tbody>\n",
       "    <tr>\n",
       "      <th>0</th>\n",
       "      <td>35</td>\n",
       "      <td>30-39</td>\n",
       "    </tr>\n",
       "    <tr>\n",
       "      <th>1</th>\n",
       "      <td>18</td>\n",
       "      <td>10-19</td>\n",
       "    </tr>\n",
       "    <tr>\n",
       "      <th>3</th>\n",
       "      <td>17</td>\n",
       "      <td>10-19</td>\n",
       "    </tr>\n",
       "    <tr>\n",
       "      <th>5</th>\n",
       "      <td>61</td>\n",
       "      <td>60-69</td>\n",
       "    </tr>\n",
       "    <tr>\n",
       "      <th>9</th>\n",
       "      <td>26</td>\n",
       "      <td>20-29</td>\n",
       "    </tr>\n",
       "    <tr>\n",
       "      <th>10</th>\n",
       "      <td>14</td>\n",
       "      <td>10-19</td>\n",
       "    </tr>\n",
       "    <tr>\n",
       "      <th>17</th>\n",
       "      <td>25</td>\n",
       "      <td>20-29</td>\n",
       "    </tr>\n",
       "    <tr>\n",
       "      <th>19</th>\n",
       "      <td>19</td>\n",
       "      <td>10-19</td>\n",
       "    </tr>\n",
       "    <tr>\n",
       "      <th>20</th>\n",
       "      <td>46</td>\n",
       "      <td>40-49</td>\n",
       "    </tr>\n",
       "    <tr>\n",
       "      <th>24</th>\n",
       "      <td>55</td>\n",
       "      <td>50-59</td>\n",
       "    </tr>\n",
       "  </tbody>\n",
       "</table>\n",
       "</div>"
      ],
      "text/plain": [
       "    age age_group\n",
       "0    35     30-39\n",
       "1    18     10-19\n",
       "3    17     10-19\n",
       "5    61     60-69\n",
       "9    26     20-29\n",
       "10   14     10-19\n",
       "17   25     20-29\n",
       "19   19     10-19\n",
       "20   46     40-49\n",
       "24   55     50-59"
      ]
     },
     "execution_count": 32,
     "metadata": {},
     "output_type": "execute_result"
    }
   ],
   "source": [
    "#replace age >90 and age<5 in users data with nan \n",
    "users.loc[(users['age'] > 90) | (users['age'] < 5)] = np.nan\n",
    "#fill nan value with mean of age\n",
    "users['age'].fillna((users['age'].mean()), inplace=True)\n",
    "users['age']= users['age'].astype('int64')\n",
    "#Binning users into age groups using pandas.cut\n",
    "labels = ['0-9', '10-19', '20-29', '30-39', '40-49', '50-59', '60-69', '70-79']\n",
    "users['age_group'] = pd.cut(users.age, range(0, 81, 10), right=False, labels=labels)\n",
    "users[['age', 'age_group']].drop_duplicates()[:10]"
   ]
  },
  {
   "cell_type": "code",
   "execution_count": 33,
   "metadata": {},
   "outputs": [
    {
     "data": {
      "text/plain": [
       "['30-39', '10-19', '60-69', '20-29', '40-49', '50-59', '70-79', NaN, '0-9']\n",
       "Categories (8, object): ['0-9' < '10-19' < '20-29' < '30-39' < '40-49' < '50-59' < '60-69' < '70-79']"
      ]
     },
     "execution_count": 33,
     "metadata": {},
     "output_type": "execute_result"
    }
   ],
   "source": [
    "users['age_group'].unique()"
   ]
  },
  {
   "cell_type": "code",
   "execution_count": 34,
   "metadata": {},
   "outputs": [
    {
     "data": {
      "text/plain": [
       "array([35, 18, 17, 61, 26, 14, 25, 19, 46, 55, 32, 24, 20, 34, 23, 51, 31,\n",
       "       21, 44, 30, 57, 43, 37, 41, 54, 42, 50, 39, 53, 47, 36, 28, 13, 58,\n",
       "       49, 38, 45, 62, 63, 27, 33, 29, 66, 40, 15, 60, 79, 22, 16, 65, 59,\n",
       "       48, 72, 56, 67, 80, 52, 69, 71, 73, 78,  9, 64, 12, 74, 75, 76, 83,\n",
       "       68, 11, 77, 70,  8,  7, 81, 10,  5,  6, 84, 82, 90, 85, 86, 87, 89,\n",
       "       88], dtype=int64)"
      ]
     },
     "execution_count": 34,
     "metadata": {},
     "output_type": "execute_result"
    }
   ],
   "source": [
    "#check unique value of age in users dataset\n",
    "users['age'].unique()"
   ]
  },
  {
   "cell_type": "code",
   "execution_count": 35,
   "metadata": {},
   "outputs": [
    {
     "data": {
      "image/png": "[encoded data removed]",
      "text/plain": [
       "<Figure size 432x288 with 1 Axes>"
      ]
     },
     "metadata": {
      "needs_background": "light"
     },
     "output_type": "display_data"
    }
   ],
   "source": [
    "#create plot of age distribution\n",
    "users.age.hist(bins=[0, 10, 20, 30, 40, 50, 60, 70, 80, 90, 100])\n",
    "plt.title('Distribusi data umur pada data users')\n",
    "plt.xlabel('Umur')\n",
    "plt.ylabel('jumlah users')\n",
    "plt.savefig('age_dist.png', bbox_inches='tight')\n",
    "plt.show()"
   ]
  },
  {
   "cell_type": "code",
   "execution_count": 36,
   "metadata": {},
   "outputs": [
    {
     "name": "stdout",
     "output_type": "stream",
     "text": [
      "Jumlah outliers:  0\n"
     ]
    }
   ],
   "source": [
    "#check outliers of age value in users data\n",
    "print('Jumlah outliers: ', sum(users['age'] > 100))"
   ]
  },
  {
   "cell_type": "code",
   "execution_count": 37,
   "metadata": {},
   "outputs": [
    {
     "name": "stdout",
     "output_type": "stream",
     "text": [
      "Jumlah pengguna:  277546\n"
     ]
    }
   ],
   "source": [
    "#check unique value of userid in users data\n",
    "print('Jumlah pengguna: ',users['user_id'].nunique())"
   ]
  },
  {
   "cell_type": "code",
   "execution_count": 38,
   "metadata": {},
   "outputs": [
    {
     "name": "stdout",
     "output_type": "stream",
     "text": [
      "Jumlah buku:  271379\n"
     ]
    }
   ],
   "source": [
    "#check unique value of isbn in books data\n",
    "print('Jumlah buku: ', books['isbn'].nunique())"
   ]
  },
  {
   "cell_type": "code",
   "execution_count": 39,
   "metadata": {},
   "outputs": [],
   "source": [
    "#select data ISBN in books and merge with ratings\n",
    "unique_ratings = ratings[ratings.isbn.isin(books.isbn)]"
   ]
  },
  {
   "cell_type": "code",
   "execution_count": 40,
   "metadata": {},
   "outputs": [
    {
     "data": {
      "text/html": [
       "<div>\n",
       "<style scoped>\n",
       "    .dataframe tbody tr th:only-of-type {\n",
       "        vertical-align: middle;\n",
       "    }\n",
       "\n",
       "    .dataframe tbody tr th {\n",
       "        vertical-align: top;\n",
       "    }\n",
       "\n",
       "    .dataframe thead th {\n",
       "        text-align: right;\n",
       "    }\n",
       "</style>\n",
       "<table border=\"1\" class=\"dataframe\">\n",
       "  <thead>\n",
       "    <tr style=\"text-align: right;\">\n",
       "      <th></th>\n",
       "      <th>user_id</th>\n",
       "      <th>isbn</th>\n",
       "      <th>book_rating</th>\n",
       "    </tr>\n",
       "  </thead>\n",
       "  <tbody>\n",
       "    <tr>\n",
       "      <th>0</th>\n",
       "      <td>276725</td>\n",
       "      <td>034545104X</td>\n",
       "      <td>0</td>\n",
       "    </tr>\n",
       "    <tr>\n",
       "      <th>3</th>\n",
       "      <td>276729</td>\n",
       "      <td>052165615X</td>\n",
       "      <td>3</td>\n",
       "    </tr>\n",
       "    <tr>\n",
       "      <th>5</th>\n",
       "      <td>276733</td>\n",
       "      <td>2080674722</td>\n",
       "      <td>0</td>\n",
       "    </tr>\n",
       "    <tr>\n",
       "      <th>8</th>\n",
       "      <td>276744</td>\n",
       "      <td>038550120X</td>\n",
       "      <td>7</td>\n",
       "    </tr>\n",
       "    <tr>\n",
       "      <th>13</th>\n",
       "      <td>276746</td>\n",
       "      <td>055356451X</td>\n",
       "      <td>0</td>\n",
       "    </tr>\n",
       "  </tbody>\n",
       "</table>\n",
       "</div>"
      ],
      "text/plain": [
       "    user_id        isbn  book_rating\n",
       "0    276725  034545104X            0\n",
       "3    276729  052165615X            3\n",
       "5    276733  2080674722            0\n",
       "8    276744  038550120X            7\n",
       "13   276746  055356451X            0"
      ]
     },
     "execution_count": 40,
     "metadata": {},
     "output_type": "execute_result"
    }
   ],
   "source": [
    "#print value in unique_ratings data\n",
    "unique_ratings.head()"
   ]
  },
  {
   "cell_type": "code",
   "execution_count": 41,
   "metadata": {},
   "outputs": [],
   "source": [
    "#select data UserID in users and merge with ratings\n",
    "rating_data = ratings[ratings.user_id.isin(users.user_id)]"
   ]
  },
  {
   "cell_type": "code",
   "execution_count": 42,
   "metadata": {},
   "outputs": [
    {
     "data": {
      "text/html": [
       "<div>\n",
       "<style scoped>\n",
       "    .dataframe tbody tr th:only-of-type {\n",
       "        vertical-align: middle;\n",
       "    }\n",
       "\n",
       "    .dataframe tbody tr th {\n",
       "        vertical-align: top;\n",
       "    }\n",
       "\n",
       "    .dataframe thead th {\n",
       "        text-align: right;\n",
       "    }\n",
       "</style>\n",
       "<table border=\"1\" class=\"dataframe\">\n",
       "  <thead>\n",
       "    <tr style=\"text-align: right;\">\n",
       "      <th></th>\n",
       "      <th>user_id</th>\n",
       "      <th>isbn</th>\n",
       "      <th>book_rating</th>\n",
       "    </tr>\n",
       "  </thead>\n",
       "  <tbody>\n",
       "    <tr>\n",
       "      <th>0</th>\n",
       "      <td>276725</td>\n",
       "      <td>034545104X</td>\n",
       "      <td>0</td>\n",
       "    </tr>\n",
       "    <tr>\n",
       "      <th>1</th>\n",
       "      <td>276726</td>\n",
       "      <td>155061224</td>\n",
       "      <td>5</td>\n",
       "    </tr>\n",
       "    <tr>\n",
       "      <th>2</th>\n",
       "      <td>276727</td>\n",
       "      <td>446520802</td>\n",
       "      <td>0</td>\n",
       "    </tr>\n",
       "    <tr>\n",
       "      <th>3</th>\n",
       "      <td>276729</td>\n",
       "      <td>052165615X</td>\n",
       "      <td>3</td>\n",
       "    </tr>\n",
       "    <tr>\n",
       "      <th>4</th>\n",
       "      <td>276729</td>\n",
       "      <td>521795028</td>\n",
       "      <td>6</td>\n",
       "    </tr>\n",
       "  </tbody>\n",
       "</table>\n",
       "</div>"
      ],
      "text/plain": [
       "   user_id        isbn  book_rating\n",
       "0   276725  034545104X            0\n",
       "1   276726   155061224            5\n",
       "2   276727   446520802            0\n",
       "3   276729  052165615X            3\n",
       "4   276729   521795028            6"
      ]
     },
     "execution_count": 42,
     "metadata": {},
     "output_type": "execute_result"
    }
   ],
   "source": [
    "#print value in rating_data \n",
    "rating_data.head()"
   ]
  },
  {
   "cell_type": "code",
   "execution_count": 43,
   "metadata": {},
   "outputs": [
    {
     "name": "stdout",
     "output_type": "stream",
     "text": [
      "(1042218, 3)\n",
      "(179102, 3)\n",
      "(271379, 5)\n",
      "(278858, 4)\n"
     ]
    }
   ],
   "source": [
    "#check how many rows and attributes\n",
    "print(rating_data.shape)\n",
    "print(unique_ratings.shape)\n",
    "print(books.shape)\n",
    "print(users.shape)"
   ]
  },
  {
   "cell_type": "code",
   "execution_count": 44,
   "metadata": {},
   "outputs": [
    {
     "data": {
      "text/plain": [
       "array([ 0,  3,  7,  8, 10,  9,  6,  1,  5,  4,  2], dtype=int64)"
      ]
     },
     "execution_count": 44,
     "metadata": {},
     "output_type": "execute_result"
    }
   ],
   "source": [
    "#check unique value of book_rating\n",
    "unique_ratings['book_rating'].unique()"
   ]
  },
  {
   "cell_type": "code",
   "execution_count": 45,
   "metadata": {},
   "outputs": [
    {
     "data": {
      "image/png": "[encoded data removed]",
      "text/plain": [
       "<Figure size 432x288 with 1 Axes>"
      ]
     },
     "metadata": {},
     "output_type": "display_data"
    }
   ],
   "source": [
    "#create visualization of book_rating distribution\n",
    "sns.set_style('darkgrid')\n",
    "sns.countplot(data= unique_ratings , x='book_rating')\n",
    "plt.show()"
   ]
  },
  {
   "cell_type": "code",
   "execution_count": 46,
   "metadata": {},
   "outputs": [],
   "source": [
    "#feature engineering in book_rating with explicit and implicit value\n",
    "ratings_explicit= unique_ratings[unique_ratings['book_rating'] != 0]\n",
    "ratings_implicit= unique_ratings[unique_ratings['book_rating'] == 0]"
   ]
  },
  {
   "cell_type": "code",
   "execution_count": 47,
   "metadata": {},
   "outputs": [
    {
     "data": {
      "image/png": "[encoded data removed]",
      "text/plain": [
       "<Figure size 432x288 with 1 Axes>"
      ]
     },
     "metadata": {},
     "output_type": "display_data"
    }
   ],
   "source": [
    "#create visualization ratings_explicit of book_rating distribution\n",
    "sns.set_style('darkgrid')\n",
    "sns.countplot(data= ratings_explicit , x='book_rating')\n",
    "plt.show()"
   ]
  },
  {
   "cell_type": "code",
   "execution_count": 48,
   "metadata": {},
   "outputs": [
    {
     "data": {
      "text/html": [
       "<div>\n",
       "<style scoped>\n",
       "    .dataframe tbody tr th:only-of-type {\n",
       "        vertical-align: middle;\n",
       "    }\n",
       "\n",
       "    .dataframe tbody tr th {\n",
       "        vertical-align: top;\n",
       "    }\n",
       "\n",
       "    .dataframe thead th {\n",
       "        text-align: right;\n",
       "    }\n",
       "</style>\n",
       "<table border=\"1\" class=\"dataframe\">\n",
       "  <thead>\n",
       "    <tr style=\"text-align: right;\">\n",
       "      <th></th>\n",
       "      <th>user_id</th>\n",
       "      <th>isbn</th>\n",
       "      <th>book_rating</th>\n",
       "    </tr>\n",
       "  </thead>\n",
       "  <tbody>\n",
       "    <tr>\n",
       "      <th>3</th>\n",
       "      <td>276729</td>\n",
       "      <td>052165615X</td>\n",
       "      <td>3</td>\n",
       "    </tr>\n",
       "    <tr>\n",
       "      <th>8</th>\n",
       "      <td>276744</td>\n",
       "      <td>038550120X</td>\n",
       "      <td>7</td>\n",
       "    </tr>\n",
       "    <tr>\n",
       "      <th>23</th>\n",
       "      <td>276747</td>\n",
       "      <td>1885408226</td>\n",
       "      <td>7</td>\n",
       "    </tr>\n",
       "    <tr>\n",
       "      <th>27</th>\n",
       "      <td>276751</td>\n",
       "      <td>3596218098</td>\n",
       "      <td>8</td>\n",
       "    </tr>\n",
       "    <tr>\n",
       "      <th>44</th>\n",
       "      <td>276762</td>\n",
       "      <td>3453092007</td>\n",
       "      <td>8</td>\n",
       "    </tr>\n",
       "  </tbody>\n",
       "</table>\n",
       "</div>"
      ],
      "text/plain": [
       "    user_id        isbn  book_rating\n",
       "3    276729  052165615X            3\n",
       "8    276744  038550120X            7\n",
       "23   276747  1885408226            7\n",
       "27   276751  3596218098            8\n",
       "44   276762  3453092007            8"
      ]
     },
     "execution_count": 48,
     "metadata": {},
     "output_type": "execute_result"
    }
   ],
   "source": [
    "#check ratings_explicit head of dataframe\n",
    "ratings_explicit.head()"
   ]
  },
  {
   "cell_type": "code",
   "execution_count": 49,
   "metadata": {},
   "outputs": [
    {
     "name": "stdout",
     "output_type": "stream",
     "text": [
      "(179102, 3)\n",
      "(73771, 3)\n"
     ]
    }
   ],
   "source": [
    "#print how many row and attributes\n",
    "print(unique_ratings.shape)\n",
    "print(ratings_explicit.shape)"
   ]
  },
  {
   "cell_type": "code",
   "execution_count": 50,
   "metadata": {},
   "outputs": [
    {
     "data": {
      "text/html": [
       "<div>\n",
       "<style scoped>\n",
       "    .dataframe tbody tr th:only-of-type {\n",
       "        vertical-align: middle;\n",
       "    }\n",
       "\n",
       "    .dataframe tbody tr th {\n",
       "        vertical-align: top;\n",
       "    }\n",
       "\n",
       "    .dataframe thead th {\n",
       "        text-align: right;\n",
       "    }\n",
       "</style>\n",
       "<table border=\"1\" class=\"dataframe\">\n",
       "  <thead>\n",
       "    <tr style=\"text-align: right;\">\n",
       "      <th></th>\n",
       "      <th>user_id</th>\n",
       "      <th>location</th>\n",
       "      <th>age</th>\n",
       "      <th>age_group</th>\n",
       "      <th>isbn</th>\n",
       "      <th>book_rating</th>\n",
       "    </tr>\n",
       "  </thead>\n",
       "  <tbody>\n",
       "    <tr>\n",
       "      <th>0</th>\n",
       "      <td>8.0</td>\n",
       "      <td>timmins, ontario, canada</td>\n",
       "      <td>35</td>\n",
       "      <td>30-39</td>\n",
       "      <td>074322678X</td>\n",
       "      <td>5</td>\n",
       "    </tr>\n",
       "    <tr>\n",
       "      <th>1</th>\n",
       "      <td>8.0</td>\n",
       "      <td>timmins, ontario, canada</td>\n",
       "      <td>35</td>\n",
       "      <td>30-39</td>\n",
       "      <td>1552041778</td>\n",
       "      <td>5</td>\n",
       "    </tr>\n",
       "    <tr>\n",
       "      <th>2</th>\n",
       "      <td>8.0</td>\n",
       "      <td>timmins, ontario, canada</td>\n",
       "      <td>35</td>\n",
       "      <td>30-39</td>\n",
       "      <td>1567407781</td>\n",
       "      <td>6</td>\n",
       "    </tr>\n",
       "    <tr>\n",
       "      <th>3</th>\n",
       "      <td>8.0</td>\n",
       "      <td>timmins, ontario, canada</td>\n",
       "      <td>35</td>\n",
       "      <td>30-39</td>\n",
       "      <td>1575663937</td>\n",
       "      <td>6</td>\n",
       "    </tr>\n",
       "    <tr>\n",
       "      <th>4</th>\n",
       "      <td>8.0</td>\n",
       "      <td>timmins, ontario, canada</td>\n",
       "      <td>35</td>\n",
       "      <td>30-39</td>\n",
       "      <td>1881320189</td>\n",
       "      <td>7</td>\n",
       "    </tr>\n",
       "  </tbody>\n",
       "</table>\n",
       "</div>"
      ],
      "text/plain": [
       "   user_id                  location  age age_group        isbn  book_rating\n",
       "0      8.0  timmins, ontario, canada   35     30-39  074322678X            5\n",
       "1      8.0  timmins, ontario, canada   35     30-39  1552041778            5\n",
       "2      8.0  timmins, ontario, canada   35     30-39  1567407781            6\n",
       "3      8.0  timmins, ontario, canada   35     30-39  1575663937            6\n",
       "4      8.0  timmins, ontario, canada   35     30-39  1881320189            7"
      ]
     },
     "execution_count": 50,
     "metadata": {},
     "output_type": "execute_result"
    }
   ],
   "source": [
    "#merge users data with ratings explicit\n",
    "#grouping age are merging in user_rating data\n",
    "users_rating= pd.merge(users, ratings_explicit, on='user_id', how='inner')\n",
    "users_rating.head()"
   ]
  },
  {
   "cell_type": "code",
   "execution_count": 51,
   "metadata": {},
   "outputs": [],
   "source": [
    "#merge users_rating with books data\n",
    "data = pd.merge(users_rating, books, on='isbn', how='inner')"
   ]
  },
  {
   "cell_type": "code",
   "execution_count": 52,
   "metadata": {},
   "outputs": [
    {
     "data": {
      "text/plain": [
       "<seaborn.axisgrid.PairGrid at 0x1ff904bed68>"
      ]
     },
     "execution_count": 52,
     "metadata": {},
     "output_type": "execute_result"
    },
    {
     "data": {
      "image/png": "[encoded data removed]",
      "text/plain": [
       "<Figure size 720x720 with 20 Axes>"
      ]
     },
     "metadata": {},
     "output_type": "display_data"
    }
   ],
   "source": [
    "#get visualization of single variable in data and its relationship with the other variabel \n",
    "sns.pairplot(data)"
   ]
  },
  {
   "cell_type": "code",
   "execution_count": 53,
   "metadata": {},
   "outputs": [
    {
     "data": {
      "text/html": [
       "<div>\n",
       "<style scoped>\n",
       "    .dataframe tbody tr th:only-of-type {\n",
       "        vertical-align: middle;\n",
       "    }\n",
       "\n",
       "    .dataframe tbody tr th {\n",
       "        vertical-align: top;\n",
       "    }\n",
       "\n",
       "    .dataframe thead th {\n",
       "        text-align: right;\n",
       "    }\n",
       "</style>\n",
       "<table border=\"1\" class=\"dataframe\">\n",
       "  <thead>\n",
       "    <tr style=\"text-align: right;\">\n",
       "      <th></th>\n",
       "      <th>isbn</th>\n",
       "      <th>book_title</th>\n",
       "      <th>book_author</th>\n",
       "      <th>year_of_publication</th>\n",
       "      <th>publisher</th>\n",
       "      <th>user_id</th>\n",
       "      <th>book_rating</th>\n",
       "    </tr>\n",
       "  </thead>\n",
       "  <tbody>\n",
       "    <tr>\n",
       "      <th>0</th>\n",
       "      <td>074322678X</td>\n",
       "      <td>Where You'll Find Me: And Other Stories</td>\n",
       "      <td>Ann Beattie</td>\n",
       "      <td>2002</td>\n",
       "      <td>Scribner</td>\n",
       "      <td>8</td>\n",
       "      <td>5</td>\n",
       "    </tr>\n",
       "    <tr>\n",
       "      <th>1</th>\n",
       "      <td>1552041778</td>\n",
       "      <td>Jane Doe</td>\n",
       "      <td>R. J. Kaiser</td>\n",
       "      <td>1999</td>\n",
       "      <td>Mira Books</td>\n",
       "      <td>8</td>\n",
       "      <td>5</td>\n",
       "    </tr>\n",
       "    <tr>\n",
       "      <th>2</th>\n",
       "      <td>1558746218</td>\n",
       "      <td>A Second Chicken Soup for the Woman's Soul (Ch...</td>\n",
       "      <td>Jack Canfield</td>\n",
       "      <td>1998</td>\n",
       "      <td>Health Communications</td>\n",
       "      <td>61501</td>\n",
       "      <td>7</td>\n",
       "    </tr>\n",
       "    <tr>\n",
       "      <th>3</th>\n",
       "      <td>1558746218</td>\n",
       "      <td>A Second Chicken Soup for the Woman's Soul (Ch...</td>\n",
       "      <td>Jack Canfield</td>\n",
       "      <td>1998</td>\n",
       "      <td>Health Communications</td>\n",
       "      <td>148514</td>\n",
       "      <td>10</td>\n",
       "    </tr>\n",
       "    <tr>\n",
       "      <th>4</th>\n",
       "      <td>1567407781</td>\n",
       "      <td>The Witchfinder (Amos Walker Mystery Series)</td>\n",
       "      <td>Loren D. Estleman</td>\n",
       "      <td>1998</td>\n",
       "      <td>Brilliance Audio - Trade</td>\n",
       "      <td>8</td>\n",
       "      <td>6</td>\n",
       "    </tr>\n",
       "  </tbody>\n",
       "</table>\n",
       "</div>"
      ],
      "text/plain": [
       "         isbn                                         book_title  \\\n",
       "0  074322678X            Where You'll Find Me: And Other Stories   \n",
       "1  1552041778                                           Jane Doe   \n",
       "2  1558746218  A Second Chicken Soup for the Woman's Soul (Ch...   \n",
       "3  1558746218  A Second Chicken Soup for the Woman's Soul (Ch...   \n",
       "4  1567407781       The Witchfinder (Amos Walker Mystery Series)   \n",
       "\n",
       "         book_author  year_of_publication                 publisher  user_id  \\\n",
       "0        Ann Beattie                 2002                  Scribner        8   \n",
       "1       R. J. Kaiser                 1999                Mira Books        8   \n",
       "2      Jack Canfield                 1998     Health Communications    61501   \n",
       "3      Jack Canfield                 1998     Health Communications   148514   \n",
       "4  Loren D. Estleman                 1998  Brilliance Audio - Trade        8   \n",
       "\n",
       "   book_rating  \n",
       "0            5  \n",
       "1            5  \n",
       "2            7  \n",
       "3           10  \n",
       "4            6  "
      ]
     },
     "execution_count": 53,
     "metadata": {},
     "output_type": "execute_result"
    }
   ],
   "source": [
    "#merge books data with rating \n",
    "new_book_df= pd.merge(books, ratings_explicit, on='isbn')\n",
    "new_book_df.head()"
   ]
  },
  {
   "cell_type": "code",
   "execution_count": 54,
   "metadata": {},
   "outputs": [
    {
     "data": {
      "text/html": [
       "<div>\n",
       "<style scoped>\n",
       "    .dataframe tbody tr th:only-of-type {\n",
       "        vertical-align: middle;\n",
       "    }\n",
       "\n",
       "    .dataframe tbody tr th {\n",
       "        vertical-align: top;\n",
       "    }\n",
       "\n",
       "    .dataframe thead th {\n",
       "        text-align: right;\n",
       "    }\n",
       "</style>\n",
       "<table border=\"1\" class=\"dataframe\">\n",
       "  <thead>\n",
       "    <tr style=\"text-align: right;\">\n",
       "      <th></th>\n",
       "      <th>isbn</th>\n",
       "      <th>book_title</th>\n",
       "      <th>book_author</th>\n",
       "      <th>year_of_publication</th>\n",
       "      <th>publisher</th>\n",
       "      <th>user_id</th>\n",
       "      <th>book_rating</th>\n",
       "      <th>location</th>\n",
       "      <th>age</th>\n",
       "      <th>age_group</th>\n",
       "    </tr>\n",
       "  </thead>\n",
       "  <tbody>\n",
       "    <tr>\n",
       "      <th>0</th>\n",
       "      <td>074322678X</td>\n",
       "      <td>Where You'll Find Me: And Other Stories</td>\n",
       "      <td>Ann Beattie</td>\n",
       "      <td>2002</td>\n",
       "      <td>Scribner</td>\n",
       "      <td>8</td>\n",
       "      <td>5</td>\n",
       "      <td>timmins, ontario, canada</td>\n",
       "      <td>35</td>\n",
       "      <td>30-39</td>\n",
       "    </tr>\n",
       "    <tr>\n",
       "      <th>1</th>\n",
       "      <td>1552041778</td>\n",
       "      <td>Jane Doe</td>\n",
       "      <td>R. J. Kaiser</td>\n",
       "      <td>1999</td>\n",
       "      <td>Mira Books</td>\n",
       "      <td>8</td>\n",
       "      <td>5</td>\n",
       "      <td>timmins, ontario, canada</td>\n",
       "      <td>35</td>\n",
       "      <td>30-39</td>\n",
       "    </tr>\n",
       "    <tr>\n",
       "      <th>2</th>\n",
       "      <td>1567407781</td>\n",
       "      <td>The Witchfinder (Amos Walker Mystery Series)</td>\n",
       "      <td>Loren D. Estleman</td>\n",
       "      <td>1998</td>\n",
       "      <td>Brilliance Audio - Trade</td>\n",
       "      <td>8</td>\n",
       "      <td>6</td>\n",
       "      <td>timmins, ontario, canada</td>\n",
       "      <td>35</td>\n",
       "      <td>30-39</td>\n",
       "    </tr>\n",
       "    <tr>\n",
       "      <th>3</th>\n",
       "      <td>1575663937</td>\n",
       "      <td>More Cunning Than Man: A Social History of Rat...</td>\n",
       "      <td>Robert Hendrickson</td>\n",
       "      <td>1999</td>\n",
       "      <td>Kensington Publishing Corp.</td>\n",
       "      <td>8</td>\n",
       "      <td>6</td>\n",
       "      <td>timmins, ontario, canada</td>\n",
       "      <td>35</td>\n",
       "      <td>30-39</td>\n",
       "    </tr>\n",
       "    <tr>\n",
       "      <th>4</th>\n",
       "      <td>1881320189</td>\n",
       "      <td>Goodbye to the Buttermilk Sky</td>\n",
       "      <td>Julia Oliver</td>\n",
       "      <td>1994</td>\n",
       "      <td>River City Pub</td>\n",
       "      <td>8</td>\n",
       "      <td>7</td>\n",
       "      <td>timmins, ontario, canada</td>\n",
       "      <td>35</td>\n",
       "      <td>30-39</td>\n",
       "    </tr>\n",
       "  </tbody>\n",
       "</table>\n",
       "</div>"
      ],
      "text/plain": [
       "         isbn                                         book_title  \\\n",
       "0  074322678X            Where You'll Find Me: And Other Stories   \n",
       "1  1552041778                                           Jane Doe   \n",
       "2  1567407781       The Witchfinder (Amos Walker Mystery Series)   \n",
       "3  1575663937  More Cunning Than Man: A Social History of Rat...   \n",
       "4  1881320189                      Goodbye to the Buttermilk Sky   \n",
       "\n",
       "          book_author  year_of_publication                    publisher  \\\n",
       "0         Ann Beattie                 2002                     Scribner   \n",
       "1        R. J. Kaiser                 1999                   Mira Books   \n",
       "2   Loren D. Estleman                 1998     Brilliance Audio - Trade   \n",
       "3  Robert Hendrickson                 1999  Kensington Publishing Corp.   \n",
       "4        Julia Oliver                 1994               River City Pub   \n",
       "\n",
       "   user_id  book_rating                  location  age age_group  \n",
       "0        8            5  timmins, ontario, canada   35     30-39  \n",
       "1        8            5  timmins, ontario, canada   35     30-39  \n",
       "2        8            6  timmins, ontario, canada   35     30-39  \n",
       "3        8            6  timmins, ontario, canada   35     30-39  \n",
       "4        8            7  timmins, ontario, canada   35     30-39  "
      ]
     },
     "execution_count": 54,
     "metadata": {},
     "output_type": "execute_result"
    }
   ],
   "source": [
    "#merge new_book_df with users\n",
    "new_book_df= pd.merge(new_book_df, users, on='user_id')\n",
    "new_book_df.head()"
   ]
  },
  {
   "cell_type": "code",
   "execution_count": 55,
   "metadata": {},
   "outputs": [
    {
     "name": "stdout",
     "output_type": "stream",
     "text": [
      "The top ten books recommendation : \n"
     ]
    },
    {
     "data": {
      "text/html": [
       "<div>\n",
       "<style scoped>\n",
       "    .dataframe tbody tr th:only-of-type {\n",
       "        vertical-align: middle;\n",
       "    }\n",
       "\n",
       "    .dataframe tbody tr th {\n",
       "        vertical-align: top;\n",
       "    }\n",
       "\n",
       "    .dataframe thead th {\n",
       "        text-align: right;\n",
       "    }\n",
       "</style>\n",
       "<table border=\"1\" class=\"dataframe\">\n",
       "  <thead>\n",
       "    <tr style=\"text-align: right;\">\n",
       "      <th></th>\n",
       "      <th>book_rating</th>\n",
       "    </tr>\n",
       "    <tr>\n",
       "      <th>isbn</th>\n",
       "      <th></th>\n",
       "    </tr>\n",
       "  </thead>\n",
       "  <tbody>\n",
       "    <tr>\n",
       "      <th>059035342X</th>\n",
       "      <td>281</td>\n",
       "    </tr>\n",
       "    <tr>\n",
       "      <th>044023722X</th>\n",
       "      <td>258</td>\n",
       "    </tr>\n",
       "    <tr>\n",
       "      <th>067976402X</th>\n",
       "      <td>231</td>\n",
       "    </tr>\n",
       "    <tr>\n",
       "      <th>044021145X</th>\n",
       "      <td>197</td>\n",
       "    </tr>\n",
       "    <tr>\n",
       "      <th>043935806X</th>\n",
       "      <td>188</td>\n",
       "    </tr>\n",
       "    <tr>\n",
       "      <th>1400034779</th>\n",
       "      <td>163</td>\n",
       "    </tr>\n",
       "    <tr>\n",
       "      <th>044651652X</th>\n",
       "      <td>130</td>\n",
       "    </tr>\n",
       "    <tr>\n",
       "      <th>044022165X</th>\n",
       "      <td>128</td>\n",
       "    </tr>\n",
       "    <tr>\n",
       "      <th>1558743669</th>\n",
       "      <td>124</td>\n",
       "    </tr>\n",
       "    <tr>\n",
       "      <th>014028009X</th>\n",
       "      <td>121</td>\n",
       "    </tr>\n",
       "  </tbody>\n",
       "</table>\n",
       "</div>"
      ],
      "text/plain": [
       "            book_rating\n",
       "isbn                   \n",
       "059035342X          281\n",
       "044023722X          258\n",
       "067976402X          231\n",
       "044021145X          197\n",
       "043935806X          188\n",
       "1400034779          163\n",
       "044651652X          130\n",
       "044022165X          128\n",
       "1558743669          124\n",
       "014028009X          121"
      ]
     },
     "execution_count": 55,
     "metadata": {},
     "output_type": "execute_result"
    }
   ],
   "source": [
    "top_ten_books= pd.DataFrame(new_book_df.groupby('isbn')['book_rating'].count()\n",
    "                         .sort_values(ascending=False).head(10))\n",
    "\n",
    "print('The top ten books recommendation : ')\n",
    "top_ten_books"
   ]
  },
  {
   "cell_type": "code",
   "execution_count": 56,
   "metadata": {
    "scrolled": true
   },
   "outputs": [
    {
     "data": {
      "text/html": [
       "<div>\n",
       "<style scoped>\n",
       "    .dataframe tbody tr th:only-of-type {\n",
       "        vertical-align: middle;\n",
       "    }\n",
       "\n",
       "    .dataframe tbody tr th {\n",
       "        vertical-align: top;\n",
       "    }\n",
       "\n",
       "    .dataframe thead th {\n",
       "        text-align: right;\n",
       "    }\n",
       "</style>\n",
       "<table border=\"1\" class=\"dataframe\">\n",
       "  <thead>\n",
       "    <tr style=\"text-align: right;\">\n",
       "      <th></th>\n",
       "      <th>isbn</th>\n",
       "      <th>book_rating</th>\n",
       "      <th>book_title</th>\n",
       "      <th>book_author</th>\n",
       "      <th>year_of_publication</th>\n",
       "      <th>publisher</th>\n",
       "    </tr>\n",
       "  </thead>\n",
       "  <tbody>\n",
       "    <tr>\n",
       "      <th>0</th>\n",
       "      <td>059035342X</td>\n",
       "      <td>281</td>\n",
       "      <td>Harry Potter and the Sorcerer's Stone (Harry P...</td>\n",
       "      <td>J. K. Rowling</td>\n",
       "      <td>1999</td>\n",
       "      <td>Arthur A. Levine Books</td>\n",
       "    </tr>\n",
       "    <tr>\n",
       "      <th>1</th>\n",
       "      <td>044023722X</td>\n",
       "      <td>258</td>\n",
       "      <td>A Painted House</td>\n",
       "      <td>John Grisham</td>\n",
       "      <td>2001</td>\n",
       "      <td>Dell Publishing Company</td>\n",
       "    </tr>\n",
       "    <tr>\n",
       "      <th>2</th>\n",
       "      <td>067976402X</td>\n",
       "      <td>231</td>\n",
       "      <td>Snow Falling on Cedars</td>\n",
       "      <td>David Guterson</td>\n",
       "      <td>1995</td>\n",
       "      <td>Vintage Books USA</td>\n",
       "    </tr>\n",
       "    <tr>\n",
       "      <th>3</th>\n",
       "      <td>044021145X</td>\n",
       "      <td>197</td>\n",
       "      <td>The Firm</td>\n",
       "      <td>John Grisham</td>\n",
       "      <td>1992</td>\n",
       "      <td>Bantam Dell Publishing Group</td>\n",
       "    </tr>\n",
       "    <tr>\n",
       "      <th>4</th>\n",
       "      <td>043935806X</td>\n",
       "      <td>188</td>\n",
       "      <td>Harry Potter and the Order of the Phoenix (Boo...</td>\n",
       "      <td>J. K. Rowling</td>\n",
       "      <td>2003</td>\n",
       "      <td>Scholastic</td>\n",
       "    </tr>\n",
       "    <tr>\n",
       "      <th>5</th>\n",
       "      <td>1400034779</td>\n",
       "      <td>163</td>\n",
       "      <td>The No. 1 Ladies' Detective Agency (Today Show...</td>\n",
       "      <td>Alexander McCall Smith</td>\n",
       "      <td>2003</td>\n",
       "      <td>Anchor</td>\n",
       "    </tr>\n",
       "    <tr>\n",
       "      <th>6</th>\n",
       "      <td>044651652X</td>\n",
       "      <td>130</td>\n",
       "      <td>The Bridges of Madison County</td>\n",
       "      <td>Robert James Waller</td>\n",
       "      <td>1992</td>\n",
       "      <td>Warner Books</td>\n",
       "    </tr>\n",
       "    <tr>\n",
       "      <th>7</th>\n",
       "      <td>044022165X</td>\n",
       "      <td>128</td>\n",
       "      <td>The Rainmaker</td>\n",
       "      <td>JOHN GRISHAM</td>\n",
       "      <td>1996</td>\n",
       "      <td>Dell</td>\n",
       "    </tr>\n",
       "    <tr>\n",
       "      <th>8</th>\n",
       "      <td>1558743669</td>\n",
       "      <td>124</td>\n",
       "      <td>A Child Called \\\"It\\\": One Child's Courage to ...</td>\n",
       "      <td>Dave Pelzer</td>\n",
       "      <td>1995</td>\n",
       "      <td>Health Communications</td>\n",
       "    </tr>\n",
       "    <tr>\n",
       "      <th>9</th>\n",
       "      <td>014028009X</td>\n",
       "      <td>121</td>\n",
       "      <td>Bridget Jones's Diary</td>\n",
       "      <td>Helen Fielding</td>\n",
       "      <td>1999</td>\n",
       "      <td>Penguin Books</td>\n",
       "    </tr>\n",
       "  </tbody>\n",
       "</table>\n",
       "</div>"
      ],
      "text/plain": [
       "         isbn  book_rating                                         book_title  \\\n",
       "0  059035342X          281  Harry Potter and the Sorcerer's Stone (Harry P...   \n",
       "1  044023722X          258                                    A Painted House   \n",
       "2  067976402X          231                             Snow Falling on Cedars   \n",
       "3  044021145X          197                                           The Firm   \n",
       "4  043935806X          188  Harry Potter and the Order of the Phoenix (Boo...   \n",
       "5  1400034779          163  The No. 1 Ladies' Detective Agency (Today Show...   \n",
       "6  044651652X          130                      The Bridges of Madison County   \n",
       "7  044022165X          128                                      The Rainmaker   \n",
       "8  1558743669          124  A Child Called \\\"It\\\": One Child's Courage to ...   \n",
       "9  014028009X          121                              Bridget Jones's Diary   \n",
       "\n",
       "              book_author  year_of_publication                     publisher  \n",
       "0           J. K. Rowling                 1999        Arthur A. Levine Books  \n",
       "1            John Grisham                 2001       Dell Publishing Company  \n",
       "2          David Guterson                 1995             Vintage Books USA  \n",
       "3            John Grisham                 1992  Bantam Dell Publishing Group  \n",
       "4           J. K. Rowling                 2003                    Scholastic  \n",
       "5  Alexander McCall Smith                 2003                        Anchor  \n",
       "6     Robert James Waller                 1992                  Warner Books  \n",
       "7            JOHN GRISHAM                 1996                          Dell  \n",
       "8             Dave Pelzer                 1995         Health Communications  \n",
       "9          Helen Fielding                 1999                 Penguin Books  "
      ]
     },
     "execution_count": 56,
     "metadata": {},
     "output_type": "execute_result"
    }
   ],
   "source": [
    "new =pd.merge(top_ten_books, books, on='isbn')\n",
    "new.head(15)"
   ]
  },
  {
   "cell_type": "markdown",
   "metadata": {},
   "source": [
    "Dari dataframe diatas maka sebagai penjual buku, dia dapat mempelajari buku yang paling banyak dibeli oleh konsumen. Dengan memanfaatkan informasi ini maka penjual buku dapat menghasilkan keputusan terkait penjualan bukunya.\n",
    "\n",
    "Sebagai pembeli, dia dapat mengetahui tren dari sebuah buku yakni buku dengan judul \"The Lovely Bonnes: A Novel\" paling banyak diberi rating sehingga bisa menjadi rekomendasi ke pengguna apabila dia tertarik ataupun ingin mengetahui buku yang paling banyak diberi rating tersebut"
   ]
  },
  {
   "cell_type": "markdown",
   "metadata": {},
   "source": [
    "## Feature Engineering"
   ]
  },
  {
   "cell_type": "code",
   "execution_count": 57,
   "metadata": {},
   "outputs": [],
   "source": [
    "#define favorable book in term of book with rating>5\n",
    "new_book_df[\"Favorable\"] = new_book_df[\"book_rating\"] > 5"
   ]
  },
  {
   "cell_type": "code",
   "execution_count": 58,
   "metadata": {},
   "outputs": [
    {
     "data": {
      "text/html": [
       "<div>\n",
       "<style scoped>\n",
       "    .dataframe tbody tr th:only-of-type {\n",
       "        vertical-align: middle;\n",
       "    }\n",
       "\n",
       "    .dataframe tbody tr th {\n",
       "        vertical-align: top;\n",
       "    }\n",
       "\n",
       "    .dataframe thead th {\n",
       "        text-align: right;\n",
       "    }\n",
       "</style>\n",
       "<table border=\"1\" class=\"dataframe\">\n",
       "  <thead>\n",
       "    <tr style=\"text-align: right;\">\n",
       "      <th></th>\n",
       "      <th>isbn</th>\n",
       "      <th>book_title</th>\n",
       "      <th>user_id</th>\n",
       "      <th>book_rating</th>\n",
       "      <th>age_group</th>\n",
       "      <th>Favorable</th>\n",
       "    </tr>\n",
       "  </thead>\n",
       "  <tbody>\n",
       "    <tr>\n",
       "      <th>0</th>\n",
       "      <td>074322678X</td>\n",
       "      <td>Where You'll Find Me: And Other Stories</td>\n",
       "      <td>8</td>\n",
       "      <td>5</td>\n",
       "      <td>30-39</td>\n",
       "      <td>False</td>\n",
       "    </tr>\n",
       "    <tr>\n",
       "      <th>1</th>\n",
       "      <td>1552041778</td>\n",
       "      <td>Jane Doe</td>\n",
       "      <td>8</td>\n",
       "      <td>5</td>\n",
       "      <td>30-39</td>\n",
       "      <td>False</td>\n",
       "    </tr>\n",
       "    <tr>\n",
       "      <th>2</th>\n",
       "      <td>1567407781</td>\n",
       "      <td>The Witchfinder (Amos Walker Mystery Series)</td>\n",
       "      <td>8</td>\n",
       "      <td>6</td>\n",
       "      <td>30-39</td>\n",
       "      <td>True</td>\n",
       "    </tr>\n",
       "    <tr>\n",
       "      <th>3</th>\n",
       "      <td>1575663937</td>\n",
       "      <td>More Cunning Than Man: A Social History of Rat...</td>\n",
       "      <td>8</td>\n",
       "      <td>6</td>\n",
       "      <td>30-39</td>\n",
       "      <td>True</td>\n",
       "    </tr>\n",
       "    <tr>\n",
       "      <th>4</th>\n",
       "      <td>1881320189</td>\n",
       "      <td>Goodbye to the Buttermilk Sky</td>\n",
       "      <td>8</td>\n",
       "      <td>7</td>\n",
       "      <td>30-39</td>\n",
       "      <td>True</td>\n",
       "    </tr>\n",
       "  </tbody>\n",
       "</table>\n",
       "</div>"
      ],
      "text/plain": [
       "         isbn                                         book_title  user_id  \\\n",
       "0  074322678X            Where You'll Find Me: And Other Stories        8   \n",
       "1  1552041778                                           Jane Doe        8   \n",
       "2  1567407781       The Witchfinder (Amos Walker Mystery Series)        8   \n",
       "3  1575663937  More Cunning Than Man: A Social History of Rat...        8   \n",
       "4  1881320189                      Goodbye to the Buttermilk Sky        8   \n",
       "\n",
       "   book_rating age_group  Favorable  \n",
       "0            5     30-39      False  \n",
       "1            5     30-39      False  \n",
       "2            6     30-39       True  \n",
       "3            6     30-39       True  \n",
       "4            7     30-39       True  "
      ]
     },
     "execution_count": 58,
     "metadata": {},
     "output_type": "execute_result"
    }
   ],
   "source": [
    "#delete features that are not needed in new_book_df data\n",
    "new_book_df.drop(['age','location','publisher','book_author','year_of_publication'],axis=1,inplace=True)\n",
    "new_book_df.head()"
   ]
  },
  {
   "cell_type": "code",
   "execution_count": 59,
   "metadata": {},
   "outputs": [
    {
     "data": {
      "text/html": [
       "<div>\n",
       "<style scoped>\n",
       "    .dataframe tbody tr th:only-of-type {\n",
       "        vertical-align: middle;\n",
       "    }\n",
       "\n",
       "    .dataframe tbody tr th {\n",
       "        vertical-align: top;\n",
       "    }\n",
       "\n",
       "    .dataframe thead th {\n",
       "        text-align: right;\n",
       "    }\n",
       "</style>\n",
       "<table border=\"1\" class=\"dataframe\">\n",
       "  <thead>\n",
       "    <tr style=\"text-align: right;\">\n",
       "      <th></th>\n",
       "      <th>isbn</th>\n",
       "      <th>book_title</th>\n",
       "      <th>user_id</th>\n",
       "      <th>book_rating</th>\n",
       "      <th>age_group</th>\n",
       "      <th>Favorable</th>\n",
       "    </tr>\n",
       "  </thead>\n",
       "  <tbody>\n",
       "    <tr>\n",
       "      <th>1</th>\n",
       "      <td>1552041778</td>\n",
       "      <td>Jane Doe</td>\n",
       "      <td>8</td>\n",
       "      <td>5</td>\n",
       "      <td>30-39</td>\n",
       "      <td>False</td>\n",
       "    </tr>\n",
       "    <tr>\n",
       "      <th>2</th>\n",
       "      <td>1567407781</td>\n",
       "      <td>The Witchfinder (Amos Walker Mystery Series)</td>\n",
       "      <td>8</td>\n",
       "      <td>6</td>\n",
       "      <td>30-39</td>\n",
       "      <td>True</td>\n",
       "    </tr>\n",
       "    <tr>\n",
       "      <th>3</th>\n",
       "      <td>1575663937</td>\n",
       "      <td>More Cunning Than Man: A Social History of Rat...</td>\n",
       "      <td>8</td>\n",
       "      <td>6</td>\n",
       "      <td>30-39</td>\n",
       "      <td>True</td>\n",
       "    </tr>\n",
       "    <tr>\n",
       "      <th>4</th>\n",
       "      <td>1881320189</td>\n",
       "      <td>Goodbye to the Buttermilk Sky</td>\n",
       "      <td>8</td>\n",
       "      <td>7</td>\n",
       "      <td>30-39</td>\n",
       "      <td>True</td>\n",
       "    </tr>\n",
       "    <tr>\n",
       "      <th>5</th>\n",
       "      <td>1558746218</td>\n",
       "      <td>A Second Chicken Soup for the Woman's Soul (Ch...</td>\n",
       "      <td>61501</td>\n",
       "      <td>7</td>\n",
       "      <td>30-39</td>\n",
       "      <td>True</td>\n",
       "    </tr>\n",
       "    <tr>\n",
       "      <th>6</th>\n",
       "      <td>1558746218</td>\n",
       "      <td>A Second Chicken Soup for the Woman's Soul (Ch...</td>\n",
       "      <td>148514</td>\n",
       "      <td>10</td>\n",
       "      <td>30-39</td>\n",
       "      <td>True</td>\n",
       "    </tr>\n",
       "    <tr>\n",
       "      <th>7</th>\n",
       "      <td>1558744673</td>\n",
       "      <td>A 4th Course of Chicken Soup for the Soul (Chi...</td>\n",
       "      <td>148514</td>\n",
       "      <td>10</td>\n",
       "      <td>30-39</td>\n",
       "      <td>True</td>\n",
       "    </tr>\n",
       "    <tr>\n",
       "      <th>8</th>\n",
       "      <td>1582290954</td>\n",
       "      <td>Hugs for Sisters: Stories, Sayings, and Script...</td>\n",
       "      <td>148514</td>\n",
       "      <td>10</td>\n",
       "      <td>30-39</td>\n",
       "      <td>True</td>\n",
       "    </tr>\n",
       "    <tr>\n",
       "      <th>9</th>\n",
       "      <td>1881320189</td>\n",
       "      <td>Goodbye to the Buttermilk Sky</td>\n",
       "      <td>226745</td>\n",
       "      <td>7</td>\n",
       "      <td>30-39</td>\n",
       "      <td>True</td>\n",
       "    </tr>\n",
       "    <tr>\n",
       "      <th>10</th>\n",
       "      <td>089480829X</td>\n",
       "      <td>What to Expect When You're Expecting (Revised ...</td>\n",
       "      <td>226745</td>\n",
       "      <td>6</td>\n",
       "      <td>30-39</td>\n",
       "      <td>True</td>\n",
       "    </tr>\n",
       "    <tr>\n",
       "      <th>11</th>\n",
       "      <td>078688097X</td>\n",
       "      <td>Inner Simplicity : 100 Ways to Regain Peace an...</td>\n",
       "      <td>226745</td>\n",
       "      <td>8</td>\n",
       "      <td>30-39</td>\n",
       "      <td>True</td>\n",
       "    </tr>\n",
       "    <tr>\n",
       "      <th>12</th>\n",
       "      <td>1564409988</td>\n",
       "      <td>How to Start a Home-Based Writing Business</td>\n",
       "      <td>226745</td>\n",
       "      <td>6</td>\n",
       "      <td>30-39</td>\n",
       "      <td>True</td>\n",
       "    </tr>\n",
       "    <tr>\n",
       "      <th>13</th>\n",
       "      <td>078686043X</td>\n",
       "      <td>The Beardstown Ladies' Common-Sense Investment...</td>\n",
       "      <td>226745</td>\n",
       "      <td>7</td>\n",
       "      <td>30-39</td>\n",
       "      <td>True</td>\n",
       "    </tr>\n",
       "    <tr>\n",
       "      <th>14</th>\n",
       "      <td>067101756X</td>\n",
       "      <td>The Day After Roswell</td>\n",
       "      <td>226745</td>\n",
       "      <td>7</td>\n",
       "      <td>30-39</td>\n",
       "      <td>True</td>\n",
       "    </tr>\n",
       "  </tbody>\n",
       "</table>\n",
       "</div>"
      ],
      "text/plain": [
       "          isbn                                         book_title  user_id  \\\n",
       "1   1552041778                                           Jane Doe        8   \n",
       "2   1567407781       The Witchfinder (Amos Walker Mystery Series)        8   \n",
       "3   1575663937  More Cunning Than Man: A Social History of Rat...        8   \n",
       "4   1881320189                      Goodbye to the Buttermilk Sky        8   \n",
       "5   1558746218  A Second Chicken Soup for the Woman's Soul (Ch...    61501   \n",
       "6   1558746218  A Second Chicken Soup for the Woman's Soul (Ch...   148514   \n",
       "7   1558744673  A 4th Course of Chicken Soup for the Soul (Chi...   148514   \n",
       "8   1582290954  Hugs for Sisters: Stories, Sayings, and Script...   148514   \n",
       "9   1881320189                      Goodbye to the Buttermilk Sky   226745   \n",
       "10  089480829X  What to Expect When You're Expecting (Revised ...   226745   \n",
       "11  078688097X  Inner Simplicity : 100 Ways to Regain Peace an...   226745   \n",
       "12  1564409988         How to Start a Home-Based Writing Business   226745   \n",
       "13  078686043X  The Beardstown Ladies' Common-Sense Investment...   226745   \n",
       "14  067101756X                              The Day After Roswell   226745   \n",
       "\n",
       "    book_rating age_group  Favorable  \n",
       "1             5     30-39      False  \n",
       "2             6     30-39       True  \n",
       "3             6     30-39       True  \n",
       "4             7     30-39       True  \n",
       "5             7     30-39       True  \n",
       "6            10     30-39       True  \n",
       "7            10     30-39       True  \n",
       "8            10     30-39       True  \n",
       "9             7     30-39       True  \n",
       "10            6     30-39       True  \n",
       "11            8     30-39       True  \n",
       "12            6     30-39       True  \n",
       "13            7     30-39       True  \n",
       "14            7     30-39       True  "
      ]
     },
     "execution_count": 59,
     "metadata": {},
     "output_type": "execute_result"
    }
   ],
   "source": [
    "#check dataframe of new_book_df\n",
    "new_book_df[1:15]"
   ]
  },
  {
   "cell_type": "code",
   "execution_count": 60,
   "metadata": {},
   "outputs": [],
   "source": [
    "#select data userid in new_book_df and get review from 200 first users\n",
    "ratings = new_book_df[new_book_df['user_id'].isin(range(200))]"
   ]
  },
  {
   "cell_type": "code",
   "execution_count": 61,
   "metadata": {},
   "outputs": [],
   "source": [
    "#create dataset with favorable books\n",
    "favorable_ratings = ratings[new_book_df[\"Favorable\"]]"
   ]
  },
  {
   "cell_type": "markdown",
   "metadata": {},
   "source": [
    "Temukan review yang bagus dari pengguna untuk itemset. Jadi, kita membutuhkan data buku dengan review yang bagus. Hal ini dapat dilakukan dengan mengelompokkan dataset berdasarkan User ID and melakukan iterasi berdasarkan buku di setiap kelompok"
   ]
  },
  {
   "cell_type": "code",
   "execution_count": 62,
   "metadata": {},
   "outputs": [],
   "source": [
    "favorable_reviews_by_users = dict((k, frozenset(v.values))\n",
    "                                 for k, v in favorable_ratings.groupby(\"user_id\")[\"isbn\"])"
   ]
  },
  {
   "cell_type": "code",
   "execution_count": 63,
   "metadata": {},
   "outputs": [],
   "source": [
    "#count sum of favorable book groupby isbn\n",
    "num_favorable_by_book = new_book_df[[\"isbn\", \"age_group\",\"Favorable\"]].groupby(\"isbn\").sum()"
   ]
  },
  {
   "cell_type": "code",
   "execution_count": 64,
   "metadata": {},
   "outputs": [
    {
     "data": {
      "text/html": [
       "<div>\n",
       "<style scoped>\n",
       "    .dataframe tbody tr th:only-of-type {\n",
       "        vertical-align: middle;\n",
       "    }\n",
       "\n",
       "    .dataframe tbody tr th {\n",
       "        vertical-align: top;\n",
       "    }\n",
       "\n",
       "    .dataframe thead th {\n",
       "        text-align: right;\n",
       "    }\n",
       "</style>\n",
       "<table border=\"1\" class=\"dataframe\">\n",
       "  <thead>\n",
       "    <tr style=\"text-align: right;\">\n",
       "      <th></th>\n",
       "      <th>Favorable</th>\n",
       "    </tr>\n",
       "    <tr>\n",
       "      <th>isbn</th>\n",
       "      <th></th>\n",
       "    </tr>\n",
       "  </thead>\n",
       "  <tbody>\n",
       "    <tr>\n",
       "      <th>059035342X</th>\n",
       "      <td>273</td>\n",
       "    </tr>\n",
       "    <tr>\n",
       "      <th>044023722X</th>\n",
       "      <td>208</td>\n",
       "    </tr>\n",
       "    <tr>\n",
       "      <th>067976402X</th>\n",
       "      <td>201</td>\n",
       "    </tr>\n",
       "    <tr>\n",
       "      <th>043935806X</th>\n",
       "      <td>183</td>\n",
       "    </tr>\n",
       "    <tr>\n",
       "      <th>044021145X</th>\n",
       "      <td>173</td>\n",
       "    </tr>\n",
       "  </tbody>\n",
       "</table>\n",
       "</div>"
      ],
      "text/plain": [
       "            Favorable\n",
       "isbn                 \n",
       "059035342X        273\n",
       "044023722X        208\n",
       "067976402X        201\n",
       "043935806X        183\n",
       "044021145X        173"
      ]
     },
     "execution_count": 64,
     "metadata": {},
     "output_type": "execute_result"
    }
   ],
   "source": [
    "#check num_favorable_by_book value sort by Favorable\n",
    "num_favorable_by_book.sort_values(by=\"Favorable\", ascending=False).head()"
   ]
  },
  {
   "cell_type": "markdown",
   "metadata": {},
   "source": [
    "## The Apriori Implementation/Market Basket Analysis"
   ]
  },
  {
   "cell_type": "markdown",
   "metadata": {},
   "source": [
    "Langkah-langkah implementasi dari apriori pada sistem rekomendasi ini yaitu:\n",
    "1. Membuat initial frequent itemset\n",
    "2. Membuat candidate itemset menggunakan superset di frequent itemset yang tersedia\n",
    "3. Uji candidate itemset untuk mengetahui bahwa candidat tersebut sudah frequent, Jika tidak candidat itemset akan dihapus\n",
    "4. Melakukan pengecekan frequent itemset yang baru pada langkah 3\n",
    "5. Mengembalikan semua frequent itemset yang telah ditemukan"
   ]
  },
  {
   "cell_type": "code",
   "execution_count": 65,
   "metadata": {},
   "outputs": [],
   "source": [
    "#Define frequent_itemsets to access itemset \n",
    "frequent_itemsets = {}"
   ]
  },
  {
   "cell_type": "code",
   "execution_count": 66,
   "metadata": {},
   "outputs": [],
   "source": [
    "#Define minimum support which needed for item so that an item can be considered frequency. \n",
    "#This value is selected based on the data set\n",
    "min_support = 2"
   ]
  },
  {
   "cell_type": "code",
   "execution_count": 67,
   "metadata": {},
   "outputs": [],
   "source": [
    "from collections import defaultdict\n",
    "\n",
    "def find_frequent_itemsets(favorable_reviews_by_users, k_1_itemsets, min_support):\n",
    "    counts = defaultdict(int)\n",
    "    for user, reviews in favorable_reviews_by_users.items():\n",
    "        for itemset in k_1_itemsets:\n",
    "            if itemset.issubset(reviews):\n",
    "                for other_reviewed_book in reviews - itemset:\n",
    "                    current_superset = itemset | frozenset((other_reviewed_book,))\n",
    "                    counts[current_superset] += 1\n",
    "    return dict([(itemset, frequency) for itemset, frequency in counts.items() if frequency >= min_support])"
   ]
  },
  {
   "cell_type": "code",
   "execution_count": 68,
   "metadata": {},
   "outputs": [],
   "source": [
    "import sys\n",
    "frequent_itemsets = {}  # itemsets are sorted by length\n",
    "min_support = 20\n",
    "frequent_itemsets[1] = dict((frozenset((isbn,)), row[\"Favorable\"])\n",
    "                                for isbn, row in num_favorable_by_book.iterrows()\n",
    "                                if row[\"Favorable\"] > min_support)"
   ]
  },
  {
   "cell_type": "code",
   "execution_count": 69,
   "metadata": {},
   "outputs": [
    {
     "data": {
      "text/plain": [
       "{frozenset({'000649840X'}): 34,\n",
       " frozenset({'002542730X'}): 63,\n",
       " frozenset({'006000438X'}): 29,\n",
       " frozenset({'006016848X'}): 36,\n",
       " frozenset({'006019491X'}): 37,\n",
       " frozenset({'006092988X'}): 32,\n",
       " frozenset({'006098824X'}): 27,\n",
       " frozenset({'006099486X'}): 43,\n",
       " frozenset({'006101351X'}): 82,\n",
       " frozenset({'014023313X'}): 50,\n",
       " frozenset({'014025448X'}): 70,\n",
       " frozenset({'014028009X'}): 105,\n",
       " frozenset({'014029628X'}): 64,\n",
       " frozenset({'014038572X'}): 44,\n",
       " frozenset({'014100018X'}): 41,\n",
       " frozenset({'014131088X'}): 35,\n",
       " frozenset({'015100692X'}): 25,\n",
       " frozenset({'015600710X'}): 22,\n",
       " frozenset({'015602943X'}): 22,\n",
       " frozenset({'031205436X'}): 26,\n",
       " frozenset({'031242227X'}): 57,\n",
       " frozenset({'031298328X'}): 32,\n",
       " frozenset({'034536676X'}): 45,\n",
       " frozenset({'034538184X'}): 21,\n",
       " frozenset({'034538475X'}): 56,\n",
       " frozenset({'034539657X'}): 21,\n",
       " frozenset({'034540288X'}): 74,\n",
       " frozenset({'034540761X'}): 24,\n",
       " frozenset({'034541389X'}): 46,\n",
       " frozenset({'034543479X'}): 31,\n",
       " frozenset({'037541309X'}): 39,\n",
       " frozenset({'037570504X'}): 40,\n",
       " frozenset({'037582233X'}): 30,\n",
       " frozenset({'038000321X'}): 21,\n",
       " frozenset({'038079487X'}): 78,\n",
       " frozenset({'038082101X'}): 39,\n",
       " frozenset({'038529929X'}): 37,\n",
       " frozenset({'038531258X'}): 25,\n",
       " frozenset({'038533334X'}): 35,\n",
       " frozenset({'038533348X'}): 23,\n",
       " frozenset({'038533558X'}): 22,\n",
       " frozenset({'038542017X'}): 44,\n",
       " frozenset({'038542471X'}): 39,\n",
       " frozenset({'038548951X'}): 33,\n",
       " frozenset({'038549081X'}): 56,\n",
       " frozenset({'038550120X'}): 61,\n",
       " frozenset({'038550926X'}): 41,\n",
       " frozenset({'038572179X'}): 44,\n",
       " frozenset({'039480001X'}): 26,\n",
       " frozenset({'039592720X'}): 65,\n",
       " frozenset({'042510107X'}): 30,\n",
       " frozenset({'042511774X'}): 33,\n",
       " frozenset({'042513525X'}): 37,\n",
       " frozenset({'042513699X'}): 21,\n",
       " frozenset({'042516098X'}): 40,\n",
       " frozenset({'042518286X'}): 30,\n",
       " frozenset({'042518630X'}): 23,\n",
       " frozenset({'043935806X'}): 183,\n",
       " frozenset({'043936213X'}): 44,\n",
       " frozenset({'044021145X'}): 173,\n",
       " frozenset({'044022103X'}): 37,\n",
       " frozenset({'044022165X'}): 104,\n",
       " frozenset({'044022425X'}): 29,\n",
       " frozenset({'044023722X'}): 208,\n",
       " frozenset({'044651652X'}): 106,\n",
       " frozenset({'044651862X'}): 48,\n",
       " frozenset({'044661064X'}): 24,\n",
       " frozenset({'044661162X'}): 22,\n",
       " frozenset({'044661193X'}): 31,\n",
       " frozenset({'044900371X'}): 29,\n",
       " frozenset({'044922046X'}): 21,\n",
       " frozenset({'048627263X'}): 21,\n",
       " frozenset({'051511779X'}): 24,\n",
       " frozenset({'051511992X'}): 30,\n",
       " frozenset({'051512317X'}): 23,\n",
       " frozenset({'051512608X'}): 24,\n",
       " frozenset({'051513287X'}): 73,\n",
       " frozenset({'051513628X'}): 38,\n",
       " frozenset({'052594527X'}): 29,\n",
       " frozenset({'055321313X'}): 49,\n",
       " frozenset({'055337933X'}): 21,\n",
       " frozenset({'055356160X'}): 29,\n",
       " frozenset({'055356451X'}): 43,\n",
       " frozenset({'055357227X'}): 21,\n",
       " frozenset({'055357258X'}): 24,\n",
       " frozenset({'059030271X'}): 25,\n",
       " frozenset({'059035342X'}): 273,\n",
       " frozenset({'060980619X'}): 22,\n",
       " frozenset({'067088300X'}): 55,\n",
       " frozenset({'067100042X'}): 24,\n",
       " frozenset({'067101420X'}): 25,\n",
       " frozenset({'067102423X'}): 65,\n",
       " frozenset({'067102535X'}): 25,\n",
       " frozenset({'067168390X'}): 30,\n",
       " frozenset({'067169507X'}): 25,\n",
       " frozenset({'067976397X'}): 31,\n",
       " frozenset({'067976402X'}): 201,\n",
       " frozenset({'068483376X'}): 26,\n",
       " frozenset({'068484267X'}): 75,\n",
       " frozenset({'068484477X'}): 103,\n",
       " frozenset({'074322535X'}): 31,\n",
       " frozenset({'074343627X'}): 58,\n",
       " frozenset({'076790382X'}): 30,\n",
       " frozenset({'076790592X'}): 38,\n",
       " frozenset({'080213825X'}): 21,\n",
       " frozenset({'080410526X'}): 76,\n",
       " frozenset({'080410753X'}): 84,\n",
       " frozenset({'080411109X'}): 75,\n",
       " frozenset({'080411868X'}): 44,\n",
       " frozenset({'080411918X'}): 26,\n",
       " frozenset({'080411935X'}): 36,\n",
       " frozenset({'081297106X'}): 26,\n",
       " frozenset({'084233226X'}): 25,\n",
       " frozenset({'089480829X'}): 56,\n",
       " frozenset({'140003065X'}): 48,\n",
       " frozenset({'1400031346'}): 40,\n",
       " frozenset({'1400031354'}): 84,\n",
       " frozenset({'1400031362'}): 42,\n",
       " frozenset({'140003180X'}): 23,\n",
       " frozenset({'1400032717'}): 46,\n",
       " frozenset({'1400034779'}): 152,\n",
       " frozenset({'1550548913'}): 21,\n",
       " frozenset({'1551665301'}): 21,\n",
       " frozenset({'155166674X'}): 24,\n",
       " frozenset({'1551668998'}): 35,\n",
       " frozenset({'1558531025'}): 32,\n",
       " frozenset({'155874262X'}): 72,\n",
       " frozenset({'1558743669'}): 109,\n",
       " frozenset({'1558744150'}): 51,\n",
       " frozenset({'1558744630'}): 37,\n",
       " frozenset({'1558745157'}): 60,\n",
       " frozenset({'1558745718'}): 40,\n",
       " frozenset({'1559029838'}): 40,\n",
       " frozenset({'1565122968'}): 30,\n",
       " frozenset({'1573221112'}): 23,\n",
       " frozenset({'1573221937'}): 38,\n",
       " frozenset({'1573225517'}): 46,\n",
       " frozenset({'1573225789'}): 73,\n",
       " frozenset({'1573226521'}): 22,\n",
       " frozenset({'1573227331'}): 46,\n",
       " frozenset({'1573228214'}): 32,\n",
       " frozenset({'1573229326'}): 74,\n",
       " frozenset({'1573229571'}): 46,\n",
       " frozenset({'1573229725'}): 26,\n",
       " frozenset({'1576737330'}): 32,\n",
       " frozenset({'1592400876'}): 51,\n",
       " frozenset({'1844262553'}): 44,\n",
       " frozenset({'1853260010'}): 23,\n",
       " frozenset({'1857022424'}): 29,\n",
       " frozenset({'1878424319'}): 48,\n",
       " frozenset({'193156146X'}): 22,\n",
       " frozenset({'1931561648'}): 30,\n",
       " frozenset({'2070360024'}): 26,\n",
       " frozenset({'2253150711'}): 22,\n",
       " frozenset({'3257228007'}): 22,\n",
       " frozenset({'3257229534'}): 25,\n",
       " frozenset({'3404148665'}): 27,\n",
       " frozenset({'3423202327'}): 29,\n",
       " frozenset({'3442541751'}): 27,\n",
       " frozenset({'3492045170'}): 28}"
      ]
     },
     "execution_count": 69,
     "metadata": {},
     "output_type": "execute_result"
    }
   ],
   "source": [
    "frequent_itemsets[1]"
   ]
  },
  {
   "cell_type": "code",
   "execution_count": 70,
   "metadata": {},
   "outputs": [
    {
     "name": "stdout",
     "output_type": "stream",
     "text": [
      "There are 4112 books with more than 2 favorable reviews\n",
      "I found 4 frequent itemsets of length 2\n",
      "I found 1 frequent itemsets of length 3\n",
      "Did not find any frequent itemsets of length 4\n"
     ]
    }
   ],
   "source": [
    "import sys\n",
    "frequent_itemsets = {}  # itemsets are sorted by length\n",
    "min_support = 2\n",
    "\n",
    "# k=1 candidates are the isbn with more than min_support favourable reviews\n",
    "frequent_itemsets[1] = dict((frozenset((isbn,)), row[\"Favorable\"])\n",
    "                                for isbn, row in num_favorable_by_book.iterrows()\n",
    "                                if row[\"Favorable\"] > min_support)\n",
    "\n",
    "print(\"There are {} books with more than {} favorable reviews\".format(len(frequent_itemsets[1]), min_support))\n",
    "sys.stdout.flush()\n",
    "for k in range(2, 20):\n",
    "    # Generate candidates of length k, using the frequent itemsets of length k-1\n",
    "    # Only store the frequent itemsets\n",
    "    cur_frequent_itemsets = find_frequent_itemsets(favorable_reviews_by_users, frequent_itemsets[k-1],\n",
    "                                                   min_support)\n",
    "    if len(cur_frequent_itemsets) == 0:\n",
    "        print(\"Did not find any frequent itemsets of length {}\".format(k))\n",
    "        sys.stdout.flush()\n",
    "        break\n",
    "    else:\n",
    "        print(\"I found {} frequent itemsets of length {}\".format(len(cur_frequent_itemsets), k))\n",
    "        #print(cur_frequent_itemsets)\n",
    "        sys.stdout.flush()\n",
    "        frequent_itemsets[k] = cur_frequent_itemsets\n",
    "# We aren't interested in the itemsets of length 1, so remove those\n",
    "del frequent_itemsets[1]"
   ]
  },
  {
   "cell_type": "code",
   "execution_count": 71,
   "metadata": {},
   "outputs": [
    {
     "name": "stdout",
     "output_type": "stream",
     "text": [
      "Found a total of 5 frequent itemsets\n"
     ]
    }
   ],
   "source": [
    "print(\"Found a total of {0} frequent itemsets\".format(sum(len(itemsets) for itemsets in frequent_itemsets.values())))"
   ]
  },
  {
   "cell_type": "markdown",
   "metadata": {},
   "source": [
    "## Extracting Asosiation Rules"
   ]
  },
  {
   "cell_type": "code",
   "execution_count": 72,
   "metadata": {},
   "outputs": [
    {
     "name": "stdout",
     "output_type": "stream",
     "text": [
      "There are 11 candidate rules\n"
     ]
    }
   ],
   "source": [
    "candidate_rules = []\n",
    "for itemset_length, itemset_counts in frequent_itemsets.items():\n",
    "    for itemset in itemset_counts.keys():\n",
    "        for conclusion in itemset:\n",
    "            premise = itemset - set((conclusion,))\n",
    "            candidate_rules.append((premise, conclusion))\n",
    "            \n",
    "print(\"There are {} candidate rules\".format(len(candidate_rules)))"
   ]
  },
  {
   "cell_type": "code",
   "execution_count": 73,
   "metadata": {},
   "outputs": [
    {
     "name": "stdout",
     "output_type": "stream",
     "text": [
      "[(frozenset({'8445071408'}), '8445071777'), (frozenset({'8445071777'}), '8445071408'), (frozenset({'8445071769'}), '8445071408'), (frozenset({'8445071408'}), '8445071769'), (frozenset({'8445071769'}), '8445071777')]\n"
     ]
    }
   ],
   "source": [
    "print(candidate_rules[:5])"
   ]
  },
  {
   "cell_type": "code",
   "execution_count": 74,
   "metadata": {},
   "outputs": [],
   "source": [
    "# Now, we compute the confidence of each of these rules. This is very similar to what we did in chapter 1\n",
    "correct_counts = defaultdict(int)\n",
    "incorrect_counts = defaultdict(int)\n",
    "for user, reviews in favorable_reviews_by_users.items():\n",
    "    for candidate_rule in candidate_rules:\n",
    "        premise, conclusion = candidate_rule\n",
    "        if premise.issubset(reviews):\n",
    "            if conclusion in reviews:\n",
    "                correct_counts[candidate_rule] += 1\n",
    "            else:\n",
    "                incorrect_counts[candidate_rule] += 1\n",
    "rule_confidence = {candidate_rule: correct_counts[candidate_rule] / float(correct_counts[candidate_rule] + incorrect_counts[candidate_rule])\n",
    "              for candidate_rule in candidate_rules}"
   ]
  },
  {
   "cell_type": "code",
   "execution_count": 75,
   "metadata": {},
   "outputs": [],
   "source": [
    "# Choose only rules above a minimum confidence level\n",
    "min_confidence = 0.9"
   ]
  },
  {
   "cell_type": "code",
   "execution_count": 76,
   "metadata": {},
   "outputs": [
    {
     "name": "stdout",
     "output_type": "stream",
     "text": [
      "11\n"
     ]
    }
   ],
   "source": [
    "# Filter out the rules with poor confidence\n",
    "rule_confidence = {rule: confidence for rule, confidence in rule_confidence.items() if confidence > min_confidence}\n",
    "print(len(rule_confidence))"
   ]
  },
  {
   "cell_type": "code",
   "execution_count": 77,
   "metadata": {},
   "outputs": [],
   "source": [
    "from operator import itemgetter\n",
    "sorted_confidence = sorted(rule_confidence.items(), key=itemgetter(1), reverse=True)"
   ]
  },
  {
   "cell_type": "code",
   "execution_count": 78,
   "metadata": {
    "scrolled": true
   },
   "outputs": [
    {
     "name": "stdout",
     "output_type": "stream",
     "text": [
      "Rule #1\n",
      "Rule: Jika seorang pengguna menyukai frozenset({'8445071408'}) mereka juga akan direkomendasikan 8445071777\n",
      " - Confidence: 1.000\n",
      "\n",
      "Rule #2\n",
      "Rule: Jika seorang pengguna menyukai frozenset({'8445071777'}) mereka juga akan direkomendasikan 8445071408\n",
      " - Confidence: 1.000\n",
      "\n",
      "Rule #3\n",
      "Rule: Jika seorang pengguna menyukai frozenset({'8445071769'}) mereka juga akan direkomendasikan 8445071408\n",
      " - Confidence: 1.000\n",
      "\n",
      "Rule #4\n",
      "Rule: Jika seorang pengguna menyukai frozenset({'8445071408'}) mereka juga akan direkomendasikan 8445071769\n",
      " - Confidence: 1.000\n",
      "\n",
      "Rule #5\n",
      "Rule: Jika seorang pengguna menyukai frozenset({'8445071769'}) mereka juga akan direkomendasikan 8445071777\n",
      " - Confidence: 1.000\n",
      "\n"
     ]
    }
   ],
   "source": [
    "for index in range(5):\n",
    "    print(\"Rule #{0}\".format(index + 1))\n",
    "    (premise, conclusion) = sorted_confidence[index][0]\n",
    "    print(\"Rule: Jika seorang pengguna menyukai {0} mereka juga akan direkomendasikan {1}\".format(premise, conclusion))\n",
    "    print(\" - Confidence: {0:.3f}\".format(rule_confidence[(premise, conclusion)]))\n",
    "    print(\"\")"
   ]
  },
  {
   "cell_type": "markdown",
   "metadata": {},
   "source": [
    "# Recommender System"
   ]
  },
  {
   "cell_type": "code",
   "execution_count": 79,
   "metadata": {},
   "outputs": [
    {
     "data": {
      "text/html": [
       "<div>\n",
       "<style scoped>\n",
       "    .dataframe tbody tr th:only-of-type {\n",
       "        vertical-align: middle;\n",
       "    }\n",
       "\n",
       "    .dataframe tbody tr th {\n",
       "        vertical-align: top;\n",
       "    }\n",
       "\n",
       "    .dataframe thead th {\n",
       "        text-align: right;\n",
       "    }\n",
       "</style>\n",
       "<table border=\"1\" class=\"dataframe\">\n",
       "  <thead>\n",
       "    <tr style=\"text-align: right;\">\n",
       "      <th></th>\n",
       "      <th>isbn</th>\n",
       "      <th>book_title</th>\n",
       "      <th>user_id</th>\n",
       "      <th>book_rating</th>\n",
       "      <th>age_group</th>\n",
       "      <th>Favorable</th>\n",
       "    </tr>\n",
       "  </thead>\n",
       "  <tbody>\n",
       "    <tr>\n",
       "      <th>0</th>\n",
       "      <td>074322678X</td>\n",
       "      <td>Where You'll Find Me: And Other Stories</td>\n",
       "      <td>8</td>\n",
       "      <td>5</td>\n",
       "      <td>30-39</td>\n",
       "      <td>False</td>\n",
       "    </tr>\n",
       "    <tr>\n",
       "      <th>1</th>\n",
       "      <td>1552041778</td>\n",
       "      <td>Jane Doe</td>\n",
       "      <td>8</td>\n",
       "      <td>5</td>\n",
       "      <td>30-39</td>\n",
       "      <td>False</td>\n",
       "    </tr>\n",
       "    <tr>\n",
       "      <th>2</th>\n",
       "      <td>1567407781</td>\n",
       "      <td>The Witchfinder (Amos Walker Mystery Series)</td>\n",
       "      <td>8</td>\n",
       "      <td>6</td>\n",
       "      <td>30-39</td>\n",
       "      <td>True</td>\n",
       "    </tr>\n",
       "    <tr>\n",
       "      <th>3</th>\n",
       "      <td>1575663937</td>\n",
       "      <td>More Cunning Than Man: A Social History of Rat...</td>\n",
       "      <td>8</td>\n",
       "      <td>6</td>\n",
       "      <td>30-39</td>\n",
       "      <td>True</td>\n",
       "    </tr>\n",
       "    <tr>\n",
       "      <th>4</th>\n",
       "      <td>1881320189</td>\n",
       "      <td>Goodbye to the Buttermilk Sky</td>\n",
       "      <td>8</td>\n",
       "      <td>7</td>\n",
       "      <td>30-39</td>\n",
       "      <td>True</td>\n",
       "    </tr>\n",
       "  </tbody>\n",
       "</table>\n",
       "</div>"
      ],
      "text/plain": [
       "         isbn                                         book_title  user_id  \\\n",
       "0  074322678X            Where You'll Find Me: And Other Stories        8   \n",
       "1  1552041778                                           Jane Doe        8   \n",
       "2  1567407781       The Witchfinder (Amos Walker Mystery Series)        8   \n",
       "3  1575663937  More Cunning Than Man: A Social History of Rat...        8   \n",
       "4  1881320189                      Goodbye to the Buttermilk Sky        8   \n",
       "\n",
       "   book_rating age_group  Favorable  \n",
       "0            5     30-39      False  \n",
       "1            5     30-39      False  \n",
       "2            6     30-39       True  \n",
       "3            6     30-39       True  \n",
       "4            7     30-39       True  "
      ]
     },
     "execution_count": 79,
     "metadata": {},
     "output_type": "execute_result"
    }
   ],
   "source": [
    "new_book_df.head()"
   ]
  },
  {
   "cell_type": "markdown",
   "metadata": {},
   "source": [
    "Dari informasi dataframe diatas dapa diketahui bahwa buku dengan judul buku Clara Callan disarankan untuk pembeli dengan umur dalam rentang 30-39"
   ]
  },
  {
   "cell_type": "code",
   "execution_count": 80,
   "metadata": {},
   "outputs": [],
   "source": [
    "def get_book_age(isbn):\n",
    "    title_object = new_book_df[new_book_df[\"isbn\"] == isbn][\"age_group\"]\n",
    "    title = title_object.values[0]\n",
    "    return title"
   ]
  },
  {
   "cell_type": "code",
   "execution_count": 81,
   "metadata": {},
   "outputs": [],
   "source": [
    "def get_book_name(isbn):\n",
    "    title_object = new_book_df[new_book_df[\"isbn\"] == isbn][\"book_title\"]\n",
    "    title = title_object.values[0]\n",
    "    return title"
   ]
  },
  {
   "cell_type": "code",
   "execution_count": 82,
   "metadata": {},
   "outputs": [
    {
     "name": "stdout",
     "output_type": "stream",
     "text": [
      "Rule #1\n",
      "Rule: Jika seseorang yang memiliki rentang umur 20-29 membeli buku El Senor De Los Anillos: LA Comunidad Del Anillo (Lord of the Rings (Spanish)) maka pengguna tersebut juga akan direkomendasikan buku El Senor De Los Anillos: El Retorno Del Rey (Tolkien, J. R. R. Lord of the Rings. 3.)\n",
      " - Confidence:  1.000\n",
      "\n",
      "Rule #2\n",
      "Rule: Jika seseorang yang memiliki rentang umur 20-29 membeli buku El Senor De Los Anillos: El Retorno Del Rey (Tolkien, J. R. R. Lord of the Rings. 3.) maka pengguna tersebut juga akan direkomendasikan buku El Senor De Los Anillos: LA Comunidad Del Anillo (Lord of the Rings (Spanish))\n",
      " - Confidence:  1.000\n",
      "\n",
      "Rule #3\n",
      "Rule: Jika seseorang yang memiliki rentang umur 20-29 membeli buku El Senor De Los Anillos: Las DOS Torres (Lord of the Rings (Paperback)) maka pengguna tersebut juga akan direkomendasikan buku El Senor De Los Anillos: LA Comunidad Del Anillo (Lord of the Rings (Spanish))\n",
      " - Confidence:  1.000\n",
      "\n",
      "Rule #4\n",
      "Rule: Jika seseorang yang memiliki rentang umur 20-29 membeli buku El Senor De Los Anillos: LA Comunidad Del Anillo (Lord of the Rings (Spanish)) maka pengguna tersebut juga akan direkomendasikan buku El Senor De Los Anillos: Las DOS Torres (Lord of the Rings (Paperback))\n",
      " - Confidence:  1.000\n",
      "\n",
      "Rule #5\n",
      "Rule: Jika seseorang yang memiliki rentang umur 20-29 membeli buku El Senor De Los Anillos: Las DOS Torres (Lord of the Rings (Paperback)) maka pengguna tersebut juga akan direkomendasikan buku El Senor De Los Anillos: El Retorno Del Rey (Tolkien, J. R. R. Lord of the Rings. 3.)\n",
      " - Confidence:  1.000\n",
      "\n"
     ]
    }
   ],
   "source": [
    "for index in range(5):\n",
    "    print(\"Rule #{0}\".format(index + 1))\n",
    "    (premise, conclusion) = sorted_confidence[index][0]\n",
    "    premise_ages = \", \".join(get_book_age(idx) for idx in premise)\n",
    "    premise_names = \", \".join(get_book_name(idx) for idx in premise)\n",
    "    conclusion_name = get_book_name(conclusion)\n",
    "    print(\"Rule: Jika seseorang yang memiliki rentang umur {} membeli buku {} maka pengguna tersebut juga akan direkomendasikan buku {}\".format(premise_ages, premise_names, conclusion_name))\n",
    "    print(\" - Confidence: {0: .3f}\".format(rule_confidence[(premise, conclusion)]))\n",
    "    print(\"\")"
   ]
  },
  {
   "cell_type": "markdown",
   "metadata": {},
   "source": [
    "Berdasarkan rule diatas maka sebagai penjual informasi ini dapat dimanfaatkan untuk membuat keputusan dengan apakah dengan menyesuaikan posisi rak buku berdasarkan buku yang memiliki keterkaitan sehingga apabila pembeli ingin membeli buku tersebut maka akan mudah untuk dilihat, memperbanyak stok buku tersebut atau hal lain yang disesuaikan dengan kebutuhan pasar."
   ]
  },
  {
   "cell_type": "markdown",
   "metadata": {},
   "source": [
    "## Evaluation"
   ]
  },
  {
   "cell_type": "code",
   "execution_count": 85,
   "metadata": {},
   "outputs": [],
   "source": [
    "test_dataset = ratings[~ratings['user_id'].isin(range(200))]\n",
    "test_favorable = test_dataset[test_dataset[\"Favorable\"]]\n",
    "test_favorable_by_users = dict((k, frozenset(v.values))\n",
    "    for k, v in test_favorable.groupby(\"user_id\")[\"isbn\"])"
   ]
  },
  {
   "cell_type": "code",
   "execution_count": 86,
   "metadata": {},
   "outputs": [
    {
     "data": {
      "text/html": [
       "<div>\n",
       "<style scoped>\n",
       "    .dataframe tbody tr th:only-of-type {\n",
       "        vertical-align: middle;\n",
       "    }\n",
       "\n",
       "    .dataframe tbody tr th {\n",
       "        vertical-align: top;\n",
       "    }\n",
       "\n",
       "    .dataframe thead th {\n",
       "        text-align: right;\n",
       "    }\n",
       "</style>\n",
       "<table border=\"1\" class=\"dataframe\">\n",
       "  <thead>\n",
       "    <tr style=\"text-align: right;\">\n",
       "      <th></th>\n",
       "      <th>Favorable</th>\n",
       "    </tr>\n",
       "    <tr>\n",
       "      <th>isbn</th>\n",
       "      <th></th>\n",
       "    </tr>\n",
       "  </thead>\n",
       "  <tbody>\n",
       "    <tr>\n",
       "      <th>059035342X</th>\n",
       "      <td>273</td>\n",
       "    </tr>\n",
       "    <tr>\n",
       "      <th>044023722X</th>\n",
       "      <td>208</td>\n",
       "    </tr>\n",
       "    <tr>\n",
       "      <th>067976402X</th>\n",
       "      <td>201</td>\n",
       "    </tr>\n",
       "    <tr>\n",
       "      <th>043935806X</th>\n",
       "      <td>183</td>\n",
       "    </tr>\n",
       "    <tr>\n",
       "      <th>044021145X</th>\n",
       "      <td>173</td>\n",
       "    </tr>\n",
       "  </tbody>\n",
       "</table>\n",
       "</div>"
      ],
      "text/plain": [
       "            Favorable\n",
       "isbn                 \n",
       "059035342X        273\n",
       "044023722X        208\n",
       "067976402X        201\n",
       "043935806X        183\n",
       "044021145X        173"
      ]
     },
     "execution_count": 86,
     "metadata": {},
     "output_type": "execute_result"
    }
   ],
   "source": [
    "#count sum of favorable book groupby isbn\n",
    "num_test_favorable_by_book = new_book_df[[\"isbn\", \"age_group\",\"Favorable\"]].groupby(\"isbn\").sum()\n",
    "#check num_favorable_by_book value sort by Favorable\n",
    "num_test_favorable_by_book.sort_values(by=\"Favorable\", ascending=False).head()"
   ]
  },
  {
   "cell_type": "code",
   "execution_count": 87,
   "metadata": {},
   "outputs": [],
   "source": [
    "#Define frequent_itemsets to access itemset \n",
    "frequent_itemsets = {}"
   ]
  },
  {
   "cell_type": "code",
   "execution_count": 88,
   "metadata": {},
   "outputs": [],
   "source": [
    "import sys\n",
    "frequent_itemsets = {}  # itemsets are sorted by length\n",
    "min_support = 10\n",
    "frequent_itemsets[1] = dict((frozenset((isbn,)), row[\"Favorable\"])\n",
    "                                for isbn, row in num_favorable_by_book.iterrows()\n",
    "                                if row[\"Favorable\"] > min_support)"
   ]
  },
  {
   "cell_type": "code",
   "execution_count": 89,
   "metadata": {},
   "outputs": [
    {
     "data": {
      "text/plain": [
       "{frozenset({'000649840X'}): 34,\n",
       " frozenset({'002542730X'}): 63,\n",
       " frozenset({'006000438X'}): 29,\n",
       " frozenset({'006001203X'}): 14,\n",
       " frozenset({'006016848X'}): 36,\n",
       " frozenset({'006017143X'}): 14,\n",
       " frozenset({'006019491X'}): 37,\n",
       " frozenset({'006039384X'}): 11,\n",
       " frozenset({'006053429X'}): 11,\n",
       " frozenset({'006092988X'}): 32,\n",
       " frozenset({'006093090X'}): 15,\n",
       " frozenset({'006098824X'}): 27,\n",
       " frozenset({'006099486X'}): 43,\n",
       " frozenset({'006101351X'}): 82,\n",
       " frozenset({'006104444X'}): 11,\n",
       " frozenset({'006109157X'}): 15,\n",
       " frozenset({'006109398X'}): 11,\n",
       " frozenset({'006109594X'}): 11,\n",
       " frozenset({'006109868X'}): 20,\n",
       " frozenset({'006109918X'}): 11,\n",
       " frozenset({'006109921X'}): 19,\n",
       " frozenset({'006440188X'}): 19,\n",
       " frozenset({'006440630X'}): 13,\n",
       " frozenset({'006447108X'}): 16,\n",
       " frozenset({'014006690X'}): 15,\n",
       " frozenset({'014016930X'}): 14,\n",
       " frozenset({'014017737X'}): 19,\n",
       " frozenset({'014018869X'}): 12,\n",
       " frozenset({'014023313X'}): 50,\n",
       " frozenset({'014023828X'}): 19,\n",
       " frozenset({'014025448X'}): 70,\n",
       " frozenset({'014027927X'}): 13,\n",
       " frozenset({'014028009X'}): 105,\n",
       " frozenset({'014029628X'}): 64,\n",
       " frozenset({'014034294X'}): 20,\n",
       " frozenset({'014034893X'}): 13,\n",
       " frozenset({'014034991X'}): 11,\n",
       " frozenset({'014038572X'}): 44,\n",
       " frozenset({'014062063X'}): 12,\n",
       " frozenset({'014100018X'}): 41,\n",
       " frozenset({'014131088X'}): 35,\n",
       " frozenset({'014200023X'}): 11,\n",
       " frozenset({'015100692X'}): 25,\n",
       " frozenset({'015216250X'}): 14,\n",
       " frozenset({'015600710X'}): 22,\n",
       " frozenset({'015602943X'}): 22,\n",
       " frozenset({'015668568X'}): 14,\n",
       " frozenset({'019282760X'}): 11,\n",
       " frozenset({'020530902X'}): 12,\n",
       " frozenset({'031205436X'}): 26,\n",
       " frozenset({'031231616X'}): 14,\n",
       " frozenset({'031242227X'}): 57,\n",
       " frozenset({'031286504X'}): 12,\n",
       " frozenset({'031298250X'}): 14,\n",
       " frozenset({'031298328X'}): 32,\n",
       " frozenset({'034529873X'}): 13,\n",
       " frozenset({'034530988X'}): 18,\n",
       " frozenset({'034536676X'}): 45,\n",
       " frozenset({'034538184X'}): 21,\n",
       " frozenset({'034538430X'}): 16,\n",
       " frozenset({'034538475X'}): 56,\n",
       " frozenset({'034539657X'}): 21,\n",
       " frozenset({'034540047X'}): 14,\n",
       " frozenset({'034540288X'}): 74,\n",
       " frozenset({'034540761X'}): 24,\n",
       " frozenset({'034541389X'}): 46,\n",
       " frozenset({'034543448X'}): 13,\n",
       " frozenset({'034543479X'}): 31,\n",
       " frozenset({'034543739X'}): 12,\n",
       " frozenset({'034544356X'}): 12,\n",
       " frozenset({'034545104X'}): 13,\n",
       " frozenset({'037325024X'}): 13,\n",
       " frozenset({'037540256X'}): 15,\n",
       " frozenset({'037541309X'}): 39,\n",
       " frozenset({'037542217X'}): 11,\n",
       " frozenset({'037570485X'}): 19,\n",
       " frozenset({'037570504X'}): 40,\n",
       " frozenset({'037570745X'}): 11,\n",
       " frozenset({'037570910X'}): 20,\n",
       " frozenset({'037570924X'}): 12,\n",
       " frozenset({'037576092X'}): 12,\n",
       " frozenset({'037582233X'}): 30,\n",
       " frozenset({'038000321X'}): 21,\n",
       " frozenset({'038000917X'}): 14,\n",
       " frozenset({'038001503X'}): 19,\n",
       " frozenset({'038070613X'}): 14,\n",
       " frozenset({'038072118X'}): 13,\n",
       " frozenset({'038072362X'}): 11,\n",
       " frozenset({'038072880X'}): 12,\n",
       " frozenset({'038073186X'}): 11,\n",
       " frozenset({'038079487X'}): 78,\n",
       " frozenset({'038082101X'}): 39,\n",
       " frozenset({'038089968X'}): 12,\n",
       " frozenset({'038529929X'}): 37,\n",
       " frozenset({'038531258X'}): 25,\n",
       " frozenset({'038531292X'}): 17,\n",
       " frozenset({'038531695X'}): 11,\n",
       " frozenset({'038531700X'}): 17,\n",
       " frozenset({'038533303X'}): 12,\n",
       " frozenset({'038533334X'}): 35,\n",
       " frozenset({'038533348X'}): 23,\n",
       " frozenset({'038533558X'}): 22,\n",
       " frozenset({'038533656X'}): 18,\n",
       " frozenset({'038542017X'}): 44,\n",
       " frozenset({'038542471X'}): 39,\n",
       " frozenset({'038548951X'}): 33,\n",
       " frozenset({'038549081X'}): 56,\n",
       " frozenset({'038550120X'}): 61,\n",
       " frozenset({'038550926X'}): 41,\n",
       " frozenset({'038572179X'}): 44,\n",
       " frozenset({'039304016X'}): 20,\n",
       " frozenset({'039480001X'}): 26,\n",
       " frozenset({'039480029X'}): 16,\n",
       " frozenset({'039575514X'}): 12,\n",
       " frozenset({'039592720X'}): 65,\n",
       " frozenset({'039914465X'}): 20,\n",
       " frozenset({'039914496X'}): 12,\n",
       " frozenset({'039914563X'}): 18,\n",
       " frozenset({'039914613X'}): 16,\n",
       " frozenset({'039914675X'}): 16,\n",
       " frozenset({'039914739X'}): 11,\n",
       " frozenset({'039914840X'}): 20,\n",
       " frozenset({'039914868X'}): 12,\n",
       " frozenset({'039915079X'}): 17,\n",
       " frozenset({'039915180X'}): 13,\n",
       " frozenset({'042510107X'}): 30,\n",
       " frozenset({'042510687X'}): 16,\n",
       " frozenset({'042511774X'}): 33,\n",
       " frozenset({'042511984X'}): 15,\n",
       " frozenset({'042513525X'}): 37,\n",
       " frozenset({'042513699X'}): 21,\n",
       " frozenset({'042514545X'}): 12,\n",
       " frozenset({'042515601X'}): 12,\n",
       " frozenset({'042516098X'}): 40,\n",
       " frozenset({'042516828X'}): 13,\n",
       " frozenset({'042517140X'}): 12,\n",
       " frozenset({'042517736X'}): 18,\n",
       " frozenset({'042518045X'}): 11,\n",
       " frozenset({'042518109X'}): 18,\n",
       " frozenset({'042518286X'}): 30,\n",
       " frozenset({'042518630X'}): 23,\n",
       " frozenset({'042518904X'}): 14,\n",
       " frozenset({'042519485X'}): 13,\n",
       " frozenset({'043912042X'}): 12,\n",
       " frozenset({'043935806X'}): 183,\n",
       " frozenset({'043936213X'}): 44,\n",
       " frozenset({'044011585X'}): 11,\n",
       " frozenset({'044020562X'}): 18,\n",
       " frozenset({'044021145X'}): 173,\n",
       " frozenset({'044022103X'}): 37,\n",
       " frozenset({'044022165X'}): 104,\n",
       " frozenset({'044022425X'}): 29,\n",
       " frozenset({'044022473X'}): 15,\n",
       " frozenset({'044022859X'}): 13,\n",
       " frozenset({'044023574X'}): 11,\n",
       " frozenset({'044023669X'}): 12,\n",
       " frozenset({'044023672X'}): 11,\n",
       " frozenset({'044023722X'}): 208,\n",
       " frozenset({'044024126X'}): 13,\n",
       " frozenset({'044041833X'}): 12,\n",
       " frozenset({'044048474X'}): 19,\n",
       " frozenset({'044098761X'}): 12,\n",
       " frozenset({'044100069X'}): 16,\n",
       " frozenset({'044166251X'}): 14,\n",
       " frozenset({'044651652X'}): 106,\n",
       " frozenset({'044651747X'}): 11,\n",
       " frozenset({'044651862X'}): 48,\n",
       " frozenset({'044652087X'}): 19,\n",
       " frozenset({'044661064X'}): 24,\n",
       " frozenset({'044661095X'}): 11,\n",
       " frozenset({'044661162X'}): 22,\n",
       " frozenset({'044661193X'}): 31,\n",
       " frozenset({'044900371X'}): 29,\n",
       " frozenset({'044900483X'}): 11,\n",
       " frozenset({'044922046X'}): 21,\n",
       " frozenset({'044990928X'}): 18,\n",
       " frozenset({'048627263X'}): 21,\n",
       " frozenset({'051510566X'}): 17,\n",
       " frozenset({'051511779X'}): 24,\n",
       " frozenset({'051511992X'}): 30,\n",
       " frozenset({'051512219X'}): 17,\n",
       " frozenset({'051512317X'}): 23,\n",
       " frozenset({'051512463X'}): 14,\n",
       " frozenset({'051512608X'}): 24,\n",
       " frozenset({'051513175X'}): 12,\n",
       " frozenset({'051513225X'}): 14,\n",
       " frozenset({'051513239X'}): 11,\n",
       " frozenset({'051513287X'}): 73,\n",
       " frozenset({'051513306X'}): 13,\n",
       " frozenset({'051513449X'}): 18,\n",
       " frozenset({'051513452X'}): 12,\n",
       " frozenset({'051513628X'}): 38,\n",
       " frozenset({'052594527X'}): 29,\n",
       " frozenset({'055310666X'}): 12,\n",
       " frozenset({'055314300X'}): 13,\n",
       " frozenset({'055321313X'}): 49,\n",
       " frozenset({'055321330X'}): 19,\n",
       " frozenset({'055323370X'}): 12,\n",
       " frozenset({'055326611X'}): 17,\n",
       " frozenset({'055327449X'}): 12,\n",
       " frozenset({'055327824X'}): 11,\n",
       " frozenset({'055327886X'}): 17,\n",
       " frozenset({'055328942X'}): 19,\n",
       " frozenset({'055329024X'}): 13,\n",
       " frozenset({'055329170X'}): 14,\n",
       " frozenset({'055329315X'}): 14,\n",
       " frozenset({'055334949X'}): 12,\n",
       " frozenset({'055337933X'}): 21,\n",
       " frozenset({'055356160X'}): 29,\n",
       " frozenset({'055356451X'}): 43,\n",
       " frozenset({'055356773X'}): 18,\n",
       " frozenset({'055357227X'}): 21,\n",
       " frozenset({'055357230X'}): 19,\n",
       " frozenset({'055357258X'}): 24,\n",
       " frozenset({'055357695X'}): 15,\n",
       " frozenset({'055358099X'}): 14,\n",
       " frozenset({'055358264X'}): 20,\n",
       " frozenset({'059030271X'}): 25,\n",
       " frozenset({'059035342X'}): 273,\n",
       " frozenset({'059045367X'}): 11,\n",
       " frozenset({'060980619X'}): 22,\n",
       " frozenset({'061815082X'}): 11,\n",
       " frozenset({'067081458X'}): 11,\n",
       " frozenset({'067081976X'}): 14,\n",
       " frozenset({'067082982X'}): 11,\n",
       " frozenset({'067087311X'}): 11,\n",
       " frozenset({'067088300X'}): 55,\n",
       " frozenset({'067091021X'}): 17,\n",
       " frozenset({'067100042X'}): 24,\n",
       " frozenset({'067100767X'}): 11,\n",
       " frozenset({'067101420X'}): 25,\n",
       " frozenset({'067102423X'}): 65,\n",
       " frozenset({'067102535X'}): 25,\n",
       " frozenset({'067103619X'}): 17,\n",
       " frozenset({'067150987X'}): 12,\n",
       " frozenset({'067155302X'}): 11,\n",
       " frozenset({'067164257X'}): 18,\n",
       " frozenset({'067168390X'}): 30,\n",
       " frozenset({'067169071X'}): 18,\n",
       " frozenset({'067169507X'}): 25,\n",
       " frozenset({'067172262X'}): 18,\n",
       " frozenset({'067187098X'}): 15,\n",
       " frozenset({'067942525X'}): 14,\n",
       " frozenset({'067942573X'}): 14,\n",
       " frozenset({'067944999X'}): 11,\n",
       " frozenset({'067945960X'}): 11,\n",
       " frozenset({'067973225X'}): 11,\n",
       " frozenset({'067974388X'}): 12,\n",
       " frozenset({'067976397X'}): 31,\n",
       " frozenset({'067976402X'}): 201,\n",
       " frozenset({'067978148X'}): 11,\n",
       " frozenset({'067988288X'}): 11,\n",
       " frozenset({'068416325X'}): 13,\n",
       " frozenset({'068480087X'}): 12,\n",
       " frozenset({'068482499X'}): 13,\n",
       " frozenset({'068483376X'}): 26,\n",
       " frozenset({'068484267X'}): 75,\n",
       " frozenset({'068484477X'}): 103,\n",
       " frozenset({'068486424X'}): 12,\n",
       " frozenset({'068487217X'}): 17,\n",
       " frozenset({'068816112X'}): 11,\n",
       " frozenset({'074320607X'}): 16,\n",
       " frozenset({'074322423X'}): 15,\n",
       " frozenset({'074322535X'}): 31,\n",
       " frozenset({'074324642X'}): 12,\n",
       " frozenset({'074343627X'}): 58,\n",
       " frozenset({'075820230X'}): 11,\n",
       " frozenset({'076790382X'}): 30,\n",
       " frozenset({'076790592X'}): 38,\n",
       " frozenset({'076791404X'}): 14,\n",
       " frozenset({'078670621X'}): 13,\n",
       " frozenset({'080213825X'}): 21,\n",
       " frozenset({'080410526X'}): 76,\n",
       " frozenset({'080410753X'}): 84,\n",
       " frozenset({'080410946X'}): 12,\n",
       " frozenset({'080411109X'}): 75,\n",
       " frozenset({'080411868X'}): 44,\n",
       " frozenset({'080411918X'}): 26,\n",
       " frozenset({'080411935X'}): 36,\n",
       " frozenset({'081296683X'}): 12,\n",
       " frozenset({'081297106X'}): 26,\n",
       " frozenset({'084232920X'}): 16,\n",
       " frozenset({'084233226X'}): 25,\n",
       " frozenset({'087113795X'}): 16,\n",
       " frozenset({'087542791X'}): 13,\n",
       " frozenset({'089480829X'}): 56,\n",
       " frozenset({'1400030382'}): 17,\n",
       " frozenset({'140003065X'}): 48,\n",
       " frozenset({'1400030927'}): 16,\n",
       " frozenset({'1400031346'}): 40,\n",
       " frozenset({'1400031354'}): 84,\n",
       " frozenset({'1400031362'}): 42,\n",
       " frozenset({'140003180X'}): 23,\n",
       " frozenset({'1400032717'}): 46,\n",
       " frozenset({'1400033543'}): 17,\n",
       " frozenset({'1400034779'}): 152,\n",
       " frozenset({'1400060117'}): 11,\n",
       " frozenset({'1400060737'}): 15,\n",
       " frozenset({'1400077826'}): 15,\n",
       " frozenset({'1550544683'}): 14,\n",
       " frozenset({'1550548913'}): 21,\n",
       " frozenset({'1551660717'}): 14,\n",
       " frozenset({'1551665301'}): 21,\n",
       " frozenset({'155166674X'}): 24,\n",
       " frozenset({'1551666839'}): 20,\n",
       " frozenset({'1551667010'}): 15,\n",
       " frozenset({'1551667193'}): 14,\n",
       " frozenset({'1551667509'}): 14,\n",
       " frozenset({'1551668246'}): 14,\n",
       " frozenset({'1551668270'}): 11,\n",
       " frozenset({'1551668300'}): 13,\n",
       " frozenset({'1551668653'}): 17,\n",
       " frozenset({'1551668726'}): 11,\n",
       " frozenset({'155166884X'}): 14,\n",
       " frozenset({'1551668912'}): 18,\n",
       " frozenset({'1551668998'}): 35,\n",
       " frozenset({'1551669153'}): 17,\n",
       " frozenset({'1551669293'}): 11,\n",
       " frozenset({'1551669390'}): 15,\n",
       " frozenset({'1551669498'}): 15,\n",
       " frozenset({'1558506462'}): 15,\n",
       " frozenset({'1558531025'}): 32,\n",
       " frozenset({'1558531564'}): 15,\n",
       " frozenset({'1558532161'}): 14,\n",
       " frozenset({'155874262X'}): 72,\n",
       " frozenset({'1558743316'}): 20,\n",
       " frozenset({'1558743669'}): 109,\n",
       " frozenset({'1558743790'}): 13,\n",
       " frozenset({'1558744150'}): 51,\n",
       " frozenset({'155874424X'}): 19,\n",
       " frozenset({'1558744592'}): 19,\n",
       " frozenset({'1558744606'}): 18,\n",
       " frozenset({'1558744630'}): 37,\n",
       " frozenset({'1558745017'}): 19,\n",
       " frozenset({'1558745157'}): 60,\n",
       " frozenset({'1558745432'}): 15,\n",
       " frozenset({'1558745718'}): 40,\n",
       " frozenset({'1558746161'}): 17,\n",
       " frozenset({'1558746226'}): 18,\n",
       " frozenset({'1558746463'}): 12,\n",
       " frozenset({'1558747028'}): 15,\n",
       " frozenset({'1558747060'}): 11,\n",
       " frozenset({'1558747109'}): 16,\n",
       " frozenset({'1559029838'}): 40,\n",
       " frozenset({'1561797111'}): 12,\n",
       " frozenset({'1563890119'}): 16,\n",
       " frozenset({'1563898586'}): 11,\n",
       " frozenset({'1565122968'}): 30,\n",
       " frozenset({'1570613818'}): 15,\n",
       " frozenset({'1573220221'}): 16,\n",
       " frozenset({'1573220876'}): 16,\n",
       " frozenset({'1573221112'}): 23,\n",
       " frozenset({'1573221775'}): 13,\n",
       " frozenset({'1573221856'}): 11,\n",
       " frozenset({'1573221937'}): 38,\n",
       " frozenset({'157322202X'}): 11,\n",
       " frozenset({'1573222259'}): 12,\n",
       " frozenset({'1573222267'}): 16,\n",
       " frozenset({'1573223328'}): 13,\n",
       " frozenset({'1573223425'}): 11,\n",
       " frozenset({'1573225126'}): 13,\n",
       " frozenset({'1573225517'}): 46,\n",
       " frozenset({'1573225789'}): 73,\n",
       " frozenset({'1573226122'}): 12,\n",
       " frozenset({'1573226521'}): 22,\n",
       " frozenset({'1573227331'}): 46,\n",
       " frozenset({'1573227889'}): 18,\n",
       " frozenset({'1573228214'}): 32,\n",
       " frozenset({'1573228583'}): 12,\n",
       " frozenset({'1573228737'}): 15,\n",
       " frozenset({'1573229083'}): 12,\n",
       " frozenset({'157322930X'}): 17,\n",
       " frozenset({'1573229326'}): 74,\n",
       " frozenset({'1573229350'}): 11,\n",
       " frozenset({'1573229385'}): 12,\n",
       " frozenset({'1573229571'}): 46,\n",
       " frozenset({'1573229628'}): 11,\n",
       " frozenset({'1573229725'}): 26,\n",
       " frozenset({'1575668807'}): 11,\n",
       " frozenset({'1576737330'}): 32,\n",
       " frozenset({'1577780728'}): 12,\n",
       " frozenset({'1579546463'}): 13,\n",
       " frozenset({'158234082X'}): 11,\n",
       " frozenset({'1583224890'}): 13,\n",
       " frozenset({'1588720020'}): 14,\n",
       " frozenset({'1592400876'}): 51,\n",
       " frozenset({'1844262553'}): 44,\n",
       " frozenset({'1853260002'}): 17,\n",
       " frozenset({'1853260010'}): 23,\n",
       " frozenset({'1853260134'}): 11,\n",
       " frozenset({'1853260150'}): 16,\n",
       " frozenset({'1853260169'}): 12,\n",
       " frozenset({'1853260207'}): 17,\n",
       " frozenset({'1853260282'}): 12,\n",
       " frozenset({'185326041X'}): 11,\n",
       " frozenset({'185326086X'}): 16,\n",
       " frozenset({'1853261580'}): 19,\n",
       " frozenset({'1857022424'}): 29,\n",
       " frozenset({'1860461670'}): 11,\n",
       " frozenset({'1860492592'}): 17,\n",
       " frozenset({'1861976127'}): 14,\n",
       " frozenset({'1878424114'}): 16,\n",
       " frozenset({'1878424319'}): 48,\n",
       " frozenset({'1878448900'}): 14,\n",
       " frozenset({'1880418568'}): 20,\n",
       " frozenset({'1881273156'}): 12,\n",
       " frozenset({'1882723007'}): 13,\n",
       " frozenset({'1885171080'}): 11,\n",
       " frozenset({'193156146X'}): 22,\n",
       " frozenset({'1931561648'}): 30,\n",
       " frozenset({'2070360024'}): 26,\n",
       " frozenset({'2070408507'}): 13,\n",
       " frozenset({'2253044903'}): 17,\n",
       " frozenset({'2253057843'}): 11,\n",
       " frozenset({'2253063339'}): 17,\n",
       " frozenset({'2253140872'}): 11,\n",
       " frozenset({'2253150711'}): 22,\n",
       " frozenset({'2253152846'}): 13,\n",
       " frozenset({'2266104535'}): 14,\n",
       " frozenset({'2290311782'}): 19,\n",
       " frozenset({'3257061269'}): 12,\n",
       " frozenset({'325722575X'}): 20,\n",
       " frozenset({'3257227809'}): 12,\n",
       " frozenset({'3257228007'}): 22,\n",
       " frozenset({'3257229534'}): 25,\n",
       " frozenset({'3379015180'}): 16,\n",
       " frozenset({'3404118960'}): 15,\n",
       " frozenset({'3404148665'}): 27,\n",
       " frozenset({'3423071516'}): 13,\n",
       " frozenset({'3423105518'}): 12,\n",
       " frozenset({'3423117370'}): 11,\n",
       " frozenset({'3423201509'}): 14,\n",
       " frozenset({'3423202327'}): 29,\n",
       " frozenset({'3423202947'}): 19,\n",
       " frozenset({'3423203668'}): 11,\n",
       " frozenset({'3423204206'}): 18,\n",
       " frozenset({'3423205202'}): 12,\n",
       " frozenset({'3442092981'}): 18,\n",
       " frozenset({'3442413338'}): 14,\n",
       " frozenset({'3442431875'}): 11,\n",
       " frozenset({'3442442354'}): 15,\n",
       " frozenset({'344244392X'}): 13,\n",
       " frozenset({'344244554X'}): 11,\n",
       " frozenset({'3442453305'}): 11,\n",
       " frozenset({'3442541751'}): 27,\n",
       " frozenset({'3442727952'}): 13,\n",
       " frozenset({'3453007867'}): 15,\n",
       " frozenset({'3453146972'}): 11,\n",
       " frozenset({'3492045170'}): 28,\n",
       " frozenset({'3492238696'}): 12,\n",
       " frozenset({'3518368540'}): 11,\n",
       " frozenset({'3548359698'}): 14,\n",
       " frozenset({'3551551677'}): 13,\n",
       " frozenset({'3596150655'}): 11,\n",
       " frozenset({'3596215226'}): 16,\n",
       " frozenset({'3596259924'}): 16,\n",
       " frozenset({'3746614007'}): 16,\n",
       " frozenset({'8408043641'}): 18,\n",
       " frozenset({'8420441708'}): 11,\n",
       " frozenset({'8423310353'}): 12,\n",
       " frozenset({'8432206407'}): 12,\n",
       " frozenset({'8445071416'}): 19,\n",
       " frozenset({'8472230082'}): 13,\n",
       " frozenset({'8472236552'}): 14,\n",
       " frozenset({'8477204055'}): 14,\n",
       " frozenset({'8478884955'}): 11,\n",
       " frozenset({'8478886451'}): 12,\n",
       " frozenset({'8495501198'}): 13,\n",
       " frozenset({'8495618605'}): 15,\n",
       " frozenset({'8804342838'}): 17,\n",
       " frozenset({'8806142100'}): 20,\n",
       " frozenset({'8806143042'}): 15,\n",
       " frozenset({'880781210X'}): 12,\n",
       " frozenset({'8807813025'}): 19,\n",
       " frozenset({'8817106100'}): 16,\n",
       " frozenset({'8817131628'}): 13,\n",
       " frozenset({'8845205118'}): 19,\n",
       " frozenset({'884590184X'}): 14}"
      ]
     },
     "execution_count": 89,
     "metadata": {},
     "output_type": "execute_result"
    }
   ],
   "source": [
    "frequent_itemsets[1]"
   ]
  },
  {
   "cell_type": "code",
   "execution_count": 90,
   "metadata": {},
   "outputs": [],
   "source": [
    "# Choose only rules above a minimum confidence level\n",
    "min_confidence = 0.5"
   ]
  },
  {
   "cell_type": "code",
   "execution_count": 91,
   "metadata": {},
   "outputs": [
    {
     "name": "stdout",
     "output_type": "stream",
     "text": [
      "11\n"
     ]
    }
   ],
   "source": [
    "# Filter out the rules with poor confidence\n",
    "rule_confidence = {rule: confidence for rule, confidence in rule_confidence.items() if confidence > min_confidence}\n",
    "print(len(rule_confidence))"
   ]
  },
  {
   "cell_type": "code",
   "execution_count": 93,
   "metadata": {},
   "outputs": [],
   "source": [
    "def get_book_age(isbn):\n",
    "    title_object = new_book_df[new_book_df[\"isbn\"] == isbn][\"age_group\"]\n",
    "    title = title_object.values[0]\n",
    "    return title"
   ]
  },
  {
   "cell_type": "code",
   "execution_count": 94,
   "metadata": {},
   "outputs": [],
   "source": [
    "def get_book_name(isbn):\n",
    "    title_object = new_book_df[new_book_df[\"isbn\"] == isbn][\"book_title\"]\n",
    "    title = title_object.values[0]\n",
    "    return title"
   ]
  },
  {
   "cell_type": "code",
   "execution_count": 95,
   "metadata": {},
   "outputs": [
    {
     "name": "stdout",
     "output_type": "stream",
     "text": [
      "Rule #1\n",
      "Rule: Jika seseorang yang memiliki rentang umur 20-29 membeli buku El Senor De Los Anillos: LA Comunidad Del Anillo (Lord of the Rings (Spanish)) maka pengguna tersebut juga akan direkomendasikan buku El Senor De Los Anillos: El Retorno Del Rey (Tolkien, J. R. R. Lord of the Rings. 3.)\n",
      " - Confidence:  1.000\n",
      "\n",
      "Rule #2\n",
      "Rule: Jika seseorang yang memiliki rentang umur 20-29 membeli buku El Senor De Los Anillos: El Retorno Del Rey (Tolkien, J. R. R. Lord of the Rings. 3.) maka pengguna tersebut juga akan direkomendasikan buku El Senor De Los Anillos: LA Comunidad Del Anillo (Lord of the Rings (Spanish))\n",
      " - Confidence:  1.000\n",
      "\n",
      "Rule #3\n",
      "Rule: Jika seseorang yang memiliki rentang umur 20-29 membeli buku El Senor De Los Anillos: Las DOS Torres (Lord of the Rings (Paperback)) maka pengguna tersebut juga akan direkomendasikan buku El Senor De Los Anillos: LA Comunidad Del Anillo (Lord of the Rings (Spanish))\n",
      " - Confidence:  1.000\n",
      "\n",
      "Rule #4\n",
      "Rule: Jika seseorang yang memiliki rentang umur 20-29 membeli buku El Senor De Los Anillos: LA Comunidad Del Anillo (Lord of the Rings (Spanish)) maka pengguna tersebut juga akan direkomendasikan buku El Senor De Los Anillos: Las DOS Torres (Lord of the Rings (Paperback))\n",
      " - Confidence:  1.000\n",
      "\n",
      "Rule #5\n",
      "Rule: Jika seseorang yang memiliki rentang umur 20-29 membeli buku El Senor De Los Anillos: Las DOS Torres (Lord of the Rings (Paperback)) maka pengguna tersebut juga akan direkomendasikan buku El Senor De Los Anillos: El Retorno Del Rey (Tolkien, J. R. R. Lord of the Rings. 3.)\n",
      " - Confidence:  1.000\n",
      "\n",
      "Rule #6\n",
      "Rule: Jika seseorang yang memiliki rentang umur 20-29 membeli buku El Senor De Los Anillos: El Retorno Del Rey (Tolkien, J. R. R. Lord of the Rings. 3.) maka pengguna tersebut juga akan direkomendasikan buku El Senor De Los Anillos: Las DOS Torres (Lord of the Rings (Paperback))\n",
      " - Confidence:  1.000\n",
      "\n",
      "Rule #7\n",
      "Rule: Jika seseorang yang memiliki rentang umur 20-29 membeli buku Folio Junior: L'histoire De Monsieur Sommer maka pengguna tersebut juga akan direkomendasikan buku Cuentos del Planeta Tierra\n",
      " - Confidence:  1.000\n",
      "\n",
      "Rule #8\n",
      "Rule: Jika seseorang yang memiliki rentang umur 20-29 membeli buku Cuentos del Planeta Tierra maka pengguna tersebut juga akan direkomendasikan buku Folio Junior: L'histoire De Monsieur Sommer\n",
      " - Confidence:  1.000\n",
      "\n",
      "Rule #9\n",
      "Rule: Jika seseorang yang memiliki rentang umur 20-29, 20-29 membeli buku El Senor De Los Anillos: LA Comunidad Del Anillo (Lord of the Rings (Spanish)), El Senor De Los Anillos: Las DOS Torres (Lord of the Rings (Paperback)) maka pengguna tersebut juga akan direkomendasikan buku El Senor De Los Anillos: El Retorno Del Rey (Tolkien, J. R. R. Lord of the Rings. 3.)\n",
      " - Confidence:  1.000\n",
      "\n",
      "Rule #10\n",
      "Rule: Jika seseorang yang memiliki rentang umur 20-29, 20-29 membeli buku El Senor De Los Anillos: El Retorno Del Rey (Tolkien, J. R. R. Lord of the Rings. 3.), El Senor De Los Anillos: Las DOS Torres (Lord of the Rings (Paperback)) maka pengguna tersebut juga akan direkomendasikan buku El Senor De Los Anillos: LA Comunidad Del Anillo (Lord of the Rings (Spanish))\n",
      " - Confidence:  1.000\n",
      "\n"
     ]
    }
   ],
   "source": [
    "for index in range(10):\n",
    "    print(\"Rule #{0}\".format(index + 1))\n",
    "    (premise, conclusion) = sorted_confidence[index][0]\n",
    "    premise_ages = \", \".join(get_book_age(idx) for idx in premise)\n",
    "    premise_names = \", \".join(get_book_name(idx) for idx in premise)\n",
    "    conclusion_name = get_book_name(conclusion)\n",
    "    print(\"Rule: Jika seseorang yang memiliki rentang umur {} membeli buku {} maka pengguna tersebut juga akan direkomendasikan buku {}\".format(premise_ages, premise_names, conclusion_name))\n",
    "    print(\" - Confidence: {0: .3f}\".format(rule_confidence[(premise, conclusion)]))\n",
    "    print(\"\")"
   ]
  },
  {
   "cell_type": "code",
   "execution_count": null,
   "metadata": {},
   "outputs": [],
   "source": []
  }
 ],
 "metadata": {
  "kernelspec": {
   "display_name": "Python 3",
   "language": "python",
   "name": "python3"
  },
  "language_info": {
   "codemirror_mode": {
    "name": "ipython",
    "version": 3
   },
   "file_extension": ".py",
   "mimetype": "text/x-python",
   "name": "python",
   "nbconvert_exporter": "python",
   "pygments_lexer": "ipython3",
   "version": "3.7.2"
  }
 },
 "nbformat": 4,
 "nbformat_minor": 2
}
